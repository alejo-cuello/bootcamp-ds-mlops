{
 "cells": [
  {
   "cell_type": "markdown",
   "id": "bcecbe6a",
   "metadata": {},
   "source": [
    "Acá tenemos que crear y entrenar el modelo"
   ]
  }
 ],
 "metadata": {
  "language_info": {
   "name": "python"
  }
 },
 "nbformat": 4,
 "nbformat_minor": 5
}
