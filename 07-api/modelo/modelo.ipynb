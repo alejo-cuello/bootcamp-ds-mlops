{
 "cells": [
  {
   "cell_type": "markdown",
   "id": "486c053a",
   "metadata": {},
   "source": [
    "# Actividad N° 07: API para Water Potability"
   ]
  },
  {
   "cell_type": "markdown",
   "id": "abab87dc",
   "metadata": {},
   "source": [
    "## Integrantes"
   ]
  },
  {
   "cell_type": "markdown",
   "id": "e9e650ff",
   "metadata": {},
   "source": [
    "**Grupo N° 03**\n",
    "\n",
    "- Adriana Villalobos\n",
    "- Gustavo Ledesma\n",
    "- Alejo Cuello"
   ]
  },
  {
   "cell_type": "markdown",
   "id": "164a2f15",
   "metadata": {},
   "source": [
    "## Descripción de la actividad"
   ]
  },
  {
   "cell_type": "markdown",
   "id": "ab5d448e",
   "metadata": {},
   "source": [
    "Realizar un modelo basado en los datos de *water_potability.csv* para apificarlo."
   ]
  },
  {
   "cell_type": "markdown",
   "id": "ce54e381",
   "metadata": {},
   "source": [
    "# Código"
   ]
  },
  {
   "cell_type": "markdown",
   "id": "92ac2898",
   "metadata": {},
   "source": [
    "## Importación de datos y librerías"
   ]
  },
  {
   "cell_type": "code",
   "execution_count": 50,
   "id": "c8327766",
   "metadata": {},
   "outputs": [],
   "source": [
    "import pandas as pd\n",
    "import pickle\n",
    "import seaborn as sns\n",
    "\n",
    "from funpymodeling.exploratory import status\n",
    "from matplotlib import pyplot as plt"
   ]
  },
  {
   "cell_type": "code",
   "execution_count": 51,
   "id": "194feced",
   "metadata": {},
   "outputs": [
    {
     "data": {
      "text/html": [
       "<div>\n",
       "<style scoped>\n",
       "    .dataframe tbody tr th:only-of-type {\n",
       "        vertical-align: middle;\n",
       "    }\n",
       "\n",
       "    .dataframe tbody tr th {\n",
       "        vertical-align: top;\n",
       "    }\n",
       "\n",
       "    .dataframe thead th {\n",
       "        text-align: right;\n",
       "    }\n",
       "</style>\n",
       "<table border=\"1\" class=\"dataframe\">\n",
       "  <thead>\n",
       "    <tr style=\"text-align: right;\">\n",
       "      <th></th>\n",
       "      <th>ph</th>\n",
       "      <th>Hardness</th>\n",
       "      <th>Solids</th>\n",
       "      <th>Chloramines</th>\n",
       "      <th>Sulfate</th>\n",
       "      <th>Conductivity</th>\n",
       "      <th>Organic_carbon</th>\n",
       "      <th>Trihalomethanes</th>\n",
       "      <th>Turbidity</th>\n",
       "      <th>Potability</th>\n",
       "    </tr>\n",
       "  </thead>\n",
       "  <tbody>\n",
       "    <tr>\n",
       "      <th>0</th>\n",
       "      <td>NaN</td>\n",
       "      <td>204.890455</td>\n",
       "      <td>20791.318981</td>\n",
       "      <td>7.300212</td>\n",
       "      <td>368.516441</td>\n",
       "      <td>564.308654</td>\n",
       "      <td>10.379783</td>\n",
       "      <td>86.990970</td>\n",
       "      <td>2.963135</td>\n",
       "      <td>0</td>\n",
       "    </tr>\n",
       "    <tr>\n",
       "      <th>1</th>\n",
       "      <td>3.716080</td>\n",
       "      <td>129.422921</td>\n",
       "      <td>18630.057858</td>\n",
       "      <td>6.635246</td>\n",
       "      <td>NaN</td>\n",
       "      <td>592.885359</td>\n",
       "      <td>15.180013</td>\n",
       "      <td>56.329076</td>\n",
       "      <td>4.500656</td>\n",
       "      <td>0</td>\n",
       "    </tr>\n",
       "    <tr>\n",
       "      <th>2</th>\n",
       "      <td>8.099124</td>\n",
       "      <td>224.236259</td>\n",
       "      <td>19909.541732</td>\n",
       "      <td>9.275884</td>\n",
       "      <td>NaN</td>\n",
       "      <td>418.606213</td>\n",
       "      <td>16.868637</td>\n",
       "      <td>66.420093</td>\n",
       "      <td>3.055934</td>\n",
       "      <td>0</td>\n",
       "    </tr>\n",
       "  </tbody>\n",
       "</table>\n",
       "</div>"
      ],
      "text/plain": [
       "         ph    Hardness        Solids  Chloramines     Sulfate  Conductivity  \\\n",
       "0       NaN  204.890455  20791.318981     7.300212  368.516441    564.308654   \n",
       "1  3.716080  129.422921  18630.057858     6.635246         NaN    592.885359   \n",
       "2  8.099124  224.236259  19909.541732     9.275884         NaN    418.606213   \n",
       "\n",
       "   Organic_carbon  Trihalomethanes  Turbidity  Potability  \n",
       "0       10.379783        86.990970   2.963135           0  \n",
       "1       15.180013        56.329076   4.500656           0  \n",
       "2       16.868637        66.420093   3.055934           0  "
      ]
     },
     "execution_count": 51,
     "metadata": {},
     "output_type": "execute_result"
    }
   ],
   "source": [
    "data = pd.read_csv(\"water_potability.csv\", sep=\",\")\n",
    "data.head(3)"
   ]
  },
  {
   "cell_type": "markdown",
   "id": "e9aceea4",
   "metadata": {},
   "source": [
    "## Análisis inicial"
   ]
  },
  {
   "cell_type": "code",
   "execution_count": 52,
   "id": "e1346b99",
   "metadata": {},
   "outputs": [
    {
     "name": "stdout",
     "output_type": "stream",
     "text": [
      "Registros del dataset: 3276\n"
     ]
    },
    {
     "data": {
      "text/html": [
       "<div>\n",
       "<style scoped>\n",
       "    .dataframe tbody tr th:only-of-type {\n",
       "        vertical-align: middle;\n",
       "    }\n",
       "\n",
       "    .dataframe tbody tr th {\n",
       "        vertical-align: top;\n",
       "    }\n",
       "\n",
       "    .dataframe thead th {\n",
       "        text-align: right;\n",
       "    }\n",
       "</style>\n",
       "<table border=\"1\" class=\"dataframe\">\n",
       "  <thead>\n",
       "    <tr style=\"text-align: right;\">\n",
       "      <th></th>\n",
       "      <th>variable</th>\n",
       "      <th>q_nan</th>\n",
       "      <th>p_nan</th>\n",
       "      <th>q_zeros</th>\n",
       "      <th>p_zeros</th>\n",
       "      <th>unique</th>\n",
       "      <th>type</th>\n",
       "    </tr>\n",
       "  </thead>\n",
       "  <tbody>\n",
       "    <tr>\n",
       "      <th>0</th>\n",
       "      <td>ph</td>\n",
       "      <td>491</td>\n",
       "      <td>0.149878</td>\n",
       "      <td>1</td>\n",
       "      <td>0.000305</td>\n",
       "      <td>2785</td>\n",
       "      <td>float64</td>\n",
       "    </tr>\n",
       "    <tr>\n",
       "      <th>1</th>\n",
       "      <td>Hardness</td>\n",
       "      <td>0</td>\n",
       "      <td>0.000000</td>\n",
       "      <td>0</td>\n",
       "      <td>0.000000</td>\n",
       "      <td>3276</td>\n",
       "      <td>float64</td>\n",
       "    </tr>\n",
       "    <tr>\n",
       "      <th>2</th>\n",
       "      <td>Solids</td>\n",
       "      <td>0</td>\n",
       "      <td>0.000000</td>\n",
       "      <td>0</td>\n",
       "      <td>0.000000</td>\n",
       "      <td>3276</td>\n",
       "      <td>float64</td>\n",
       "    </tr>\n",
       "    <tr>\n",
       "      <th>3</th>\n",
       "      <td>Chloramines</td>\n",
       "      <td>0</td>\n",
       "      <td>0.000000</td>\n",
       "      <td>0</td>\n",
       "      <td>0.000000</td>\n",
       "      <td>3276</td>\n",
       "      <td>float64</td>\n",
       "    </tr>\n",
       "    <tr>\n",
       "      <th>4</th>\n",
       "      <td>Sulfate</td>\n",
       "      <td>781</td>\n",
       "      <td>0.238400</td>\n",
       "      <td>0</td>\n",
       "      <td>0.000000</td>\n",
       "      <td>2495</td>\n",
       "      <td>float64</td>\n",
       "    </tr>\n",
       "    <tr>\n",
       "      <th>5</th>\n",
       "      <td>Conductivity</td>\n",
       "      <td>0</td>\n",
       "      <td>0.000000</td>\n",
       "      <td>0</td>\n",
       "      <td>0.000000</td>\n",
       "      <td>3276</td>\n",
       "      <td>float64</td>\n",
       "    </tr>\n",
       "    <tr>\n",
       "      <th>6</th>\n",
       "      <td>Organic_carbon</td>\n",
       "      <td>0</td>\n",
       "      <td>0.000000</td>\n",
       "      <td>0</td>\n",
       "      <td>0.000000</td>\n",
       "      <td>3276</td>\n",
       "      <td>float64</td>\n",
       "    </tr>\n",
       "    <tr>\n",
       "      <th>7</th>\n",
       "      <td>Trihalomethanes</td>\n",
       "      <td>162</td>\n",
       "      <td>0.049451</td>\n",
       "      <td>0</td>\n",
       "      <td>0.000000</td>\n",
       "      <td>3114</td>\n",
       "      <td>float64</td>\n",
       "    </tr>\n",
       "    <tr>\n",
       "      <th>8</th>\n",
       "      <td>Turbidity</td>\n",
       "      <td>0</td>\n",
       "      <td>0.000000</td>\n",
       "      <td>0</td>\n",
       "      <td>0.000000</td>\n",
       "      <td>3276</td>\n",
       "      <td>float64</td>\n",
       "    </tr>\n",
       "    <tr>\n",
       "      <th>9</th>\n",
       "      <td>Potability</td>\n",
       "      <td>0</td>\n",
       "      <td>0.000000</td>\n",
       "      <td>1998</td>\n",
       "      <td>0.609890</td>\n",
       "      <td>2</td>\n",
       "      <td>int64</td>\n",
       "    </tr>\n",
       "  </tbody>\n",
       "</table>\n",
       "</div>"
      ],
      "text/plain": [
       "          variable  q_nan     p_nan  q_zeros   p_zeros  unique     type\n",
       "0               ph    491  0.149878        1  0.000305    2785  float64\n",
       "1         Hardness      0  0.000000        0  0.000000    3276  float64\n",
       "2           Solids      0  0.000000        0  0.000000    3276  float64\n",
       "3      Chloramines      0  0.000000        0  0.000000    3276  float64\n",
       "4          Sulfate    781  0.238400        0  0.000000    2495  float64\n",
       "5     Conductivity      0  0.000000        0  0.000000    3276  float64\n",
       "6   Organic_carbon      0  0.000000        0  0.000000    3276  float64\n",
       "7  Trihalomethanes    162  0.049451        0  0.000000    3114  float64\n",
       "8        Turbidity      0  0.000000        0  0.000000    3276  float64\n",
       "9       Potability      0  0.000000     1998  0.609890       2    int64"
      ]
     },
     "execution_count": 52,
     "metadata": {},
     "output_type": "execute_result"
    }
   ],
   "source": [
    "print(f\"Registros del dataset: {data.shape[0]}\")\n",
    "status(data)"
   ]
  },
  {
   "cell_type": "markdown",
   "id": "6120db43",
   "metadata": {},
   "source": [
    "- Discreticen por igual frecuencia e igual rango las columnas: `ph`, `Sulfate` y `Trihalomethanes`.\n",
    "  <br>Usen `duplicates='drop', retbins=True` para posteriormente guardarlas. \n",
    "  <br>Y nombrarlas como `saved_bins_ph`, `saved_bins_sulfate` y `saved_bins_trihalomethanes`.\n",
    "\n",
    "- Y guarden las discretizaciones:"
   ]
  },
  {
   "cell_type": "code",
   "execution_count": null,
   "id": "ef39ffb0",
   "metadata": {},
   "outputs": [
    {
     "name": "stdout",
     "output_type": "stream",
     "text": [
      "ph_disc\n",
      "(-0.001, 5.343]    349\n",
      "(5.343, 6.093]     348\n",
      "(6.093, 6.604]     348\n",
      "(6.604, 7.037]     348\n",
      "(7.037, 7.53]      348\n",
      "(7.53, 8.062]      348\n",
      "(8.062, 8.86]      348\n",
      "(8.86, 14.0]       348\n",
      "Name: count, dtype: int64\n",
      "Sulfate_disc\n",
      "(128.999, 288.514]    312\n",
      "(288.514, 307.699]    312\n",
      "(307.699, 321.413]    312\n",
      "(321.413, 333.074]    312\n",
      "(344.859, 359.95]     312\n",
      "(359.95, 379.82]      312\n",
      "(379.82, 481.031]     312\n",
      "(333.074, 344.859]    311\n",
      "Name: count, dtype: int64\n",
      "Trihalomethanes_disc\n",
      "(0.737, 48.15]      390\n",
      "(84.578, 124.0]     390\n",
      "(48.15, 55.845]     389\n",
      "(55.845, 61.664]    389\n",
      "(61.664, 66.622]    389\n",
      "(66.622, 71.663]    389\n",
      "(71.663, 77.337]    389\n",
      "(77.337, 84.578]    389\n",
      "Name: count, dtype: int64\n"
     ]
    }
   ],
   "source": [
    "for col in columns_to_be_binned:\n",
    "    variable_name = \"saved_bins_\" + col.lower()\n",
    "    \n",
    "    data[col + \"_disc\"], bins = pd.qcut(data[col], q=5, duplicates=\"drop\", retbins=True)\n",
    "\n",
    "    with open(\"saved_bins_\" + col.lower() + '.pickle', 'wb') as handle:\n",
    "        pickle.dump(bins, handle, protocol=pickle.HIGHEST_PROTOCOL)\n",
    "\n",
    "    print(data[col + \"_disc\"].value_counts())"
   ]
  },
  {
   "cell_type": "markdown",
   "id": "fd1afcc4",
   "metadata": {},
   "source": [
    "- Agregar categoría `desconocido` a los valores NaN de las 3 columnas previamente mencionadas."
   ]
  },
  {
   "cell_type": "code",
   "execution_count": 76,
   "id": "d585e3d3",
   "metadata": {},
   "outputs": [],
   "source": [
    "for col in columns_to_be_binned:\n",
    "    #Este if evita que ocurra un error al correr la celda luego de la primera corrida\n",
    "    if not \"desconocido\" in list(data[col+\"_disc\"].cat.categories):\n",
    "        data[col + \"_disc\"] = data[col + \"_disc\"].cat.add_categories([\"desconocido\"])\n",
    "    data[col + \"_disc\"] = data[col + \"_disc\"].fillna(value=\"desconocido\")"
   ]
  },
  {
   "cell_type": "markdown",
   "id": "dbc167ef",
   "metadata": {},
   "source": [
    "- Hacer un `get dummies`."
   ]
  },
  {
   "cell_type": "code",
   "execution_count": null,
   "id": "867dfb7a",
   "metadata": {},
   "outputs": [],
   "source": [
    "columns_to_get_dummies = [col + \"_disc\" for col in columns_to_be_binned]\n",
    "data = pd.get_dummies(data=data, columns=columns_to_get_dummies)"
   ]
  },
  {
   "cell_type": "markdown",
   "id": "714cd6a4",
   "metadata": {},
   "source": [
    "- Su variable target o de interés a clasificar es `Potability`.\n",
    "\n",
    "- Recuerden comentar y NO utilizar la siguiente celda:\n",
    "    ```\n",
    "    data_x = data_x.values\n",
    "    data_y = data_y.values\n",
    "    ``` \n",
    "\n",
    "- Utilicen el 30% del dataset para test.\n",
    "\n",
    "- Para el Random Forest consideren los parámetros `n_estimators = 1000` y `random_state = 99`\n",
    "\n",
    "- Guarden el modelo con el nombre `rf.pkl`.\n",
    "\n",
    "- Guarden el nombre de las columnas\n",
    "  ```\n",
    "    import pickle\n",
    "\n",
    "    # Guardamos las columnas x (sin Potability)\n",
    "    with open('categories_ohe.pickle', 'wb') as handle:\n",
    "        pickle.dump(data_x.columns, handle, protocol=pickle.HIGHEST_PROTOCOL)\n",
    "  ```"
   ]
  }
 ],
 "metadata": {
  "kernelspec": {
   "display_name": ".venv",
   "language": "python",
   "name": "python3"
  },
  "language_info": {
   "codemirror_mode": {
    "name": "ipython",
    "version": 3
   },
   "file_extension": ".py",
   "mimetype": "text/x-python",
   "name": "python",
   "nbconvert_exporter": "python",
   "pygments_lexer": "ipython3",
   "version": "3.11.9"
  }
 },
 "nbformat": 4,
 "nbformat_minor": 5
}
