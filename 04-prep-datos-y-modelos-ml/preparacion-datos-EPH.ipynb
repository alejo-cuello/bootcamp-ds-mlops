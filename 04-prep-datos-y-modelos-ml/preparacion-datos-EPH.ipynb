{
 "cells": [
  {
   "cell_type": "markdown",
   "metadata": {},
   "source": [
    "# Actividad N° 04: Preparación de Datos Encuesta Nacional de Hogares 2019"
   ]
  },
  {
   "cell_type": "markdown",
   "metadata": {},
   "source": [
    "## Integrantes"
   ]
  },
  {
   "cell_type": "markdown",
   "metadata": {},
   "source": [
    "**Grupo N° 03**\n",
    "\n",
    "- Adriana Villalobos\n",
    "- Gustavo Ledesma\n",
    "- Alejo Cuello"
   ]
  },
  {
   "cell_type": "markdown",
   "metadata": {},
   "source": [
    "## Descripción de la actividad"
   ]
  },
  {
   "cell_type": "markdown",
   "metadata": {},
   "source": [
    "Trabajamos sobre el conjunto de datos *encuesta-anual-hogares-2019.csv*. El objetivo de la actividad es tratar los datos para poder usarlos en un modelo."
   ]
  },
  {
   "cell_type": "markdown",
   "metadata": {},
   "source": [
    "# Consigna 1"
   ]
  },
  {
   "cell_type": "code",
   "execution_count": 1,
   "metadata": {},
   "outputs": [],
   "source": [
    "# Instalación y llamado de libs\n",
    "import pandas as pd\n",
    "from funpymodeling.exploratory import status\n",
    "import pickle"
   ]
  },
  {
   "cell_type": "code",
   "execution_count": 2,
   "metadata": {},
   "outputs": [],
   "source": [
    "# 1. Cargamos el dataset\n",
    "\n",
    "data = pd.read_csv(\"encuesta-anual-hogares-2019.csv\", sep=',')"
   ]
  },
  {
   "cell_type": "code",
   "execution_count": 3,
   "metadata": {},
   "outputs": [
    {
     "data": {
      "text/html": [
       "<div>\n",
       "<style scoped>\n",
       "    .dataframe tbody tr th:only-of-type {\n",
       "        vertical-align: middle;\n",
       "    }\n",
       "\n",
       "    .dataframe tbody tr th {\n",
       "        vertical-align: top;\n",
       "    }\n",
       "\n",
       "    .dataframe thead th {\n",
       "        text-align: right;\n",
       "    }\n",
       "</style>\n",
       "<table border=\"1\" class=\"dataframe\">\n",
       "  <thead>\n",
       "    <tr style=\"text-align: right;\">\n",
       "      <th></th>\n",
       "      <th>id</th>\n",
       "      <th>nhogar</th>\n",
       "      <th>miembro</th>\n",
       "      <th>comuna</th>\n",
       "      <th>dominio</th>\n",
       "      <th>edad</th>\n",
       "      <th>sexo</th>\n",
       "      <th>parentesco_jefe</th>\n",
       "      <th>situacion_conyugal</th>\n",
       "      <th>num_miembro_padre</th>\n",
       "      <th>...</th>\n",
       "      <th>ingreso_per_capita_familiar</th>\n",
       "      <th>estado_educativo</th>\n",
       "      <th>sector_educativo</th>\n",
       "      <th>nivel_actual</th>\n",
       "      <th>nivel_max_educativo</th>\n",
       "      <th>años_escolaridad</th>\n",
       "      <th>lugar_nacimiento</th>\n",
       "      <th>afiliacion_salud</th>\n",
       "      <th>hijos_nacidos_vivos</th>\n",
       "      <th>cantidad_hijos_nac_vivos</th>\n",
       "    </tr>\n",
       "  </thead>\n",
       "  <tbody>\n",
       "    <tr>\n",
       "      <th>4563</th>\n",
       "      <td>1803</td>\n",
       "      <td>1</td>\n",
       "      <td>4</td>\n",
       "      <td>12</td>\n",
       "      <td>Resto de la Ciudad</td>\n",
       "      <td>11</td>\n",
       "      <td>Mujer</td>\n",
       "      <td>Hijo/a - Hijastro/a</td>\n",
       "      <td>No corresponde</td>\n",
       "      <td>1</td>\n",
       "      <td>...</td>\n",
       "      <td>13960</td>\n",
       "      <td>Asiste</td>\n",
       "      <td>Estatal/publico</td>\n",
       "      <td>Primario comun</td>\n",
       "      <td>Sala de 5</td>\n",
       "      <td>5</td>\n",
       "      <td>CABA</td>\n",
       "      <td>Solo prepaga o mutual via OS</td>\n",
       "      <td>NaN</td>\n",
       "      <td>No corresponde</td>\n",
       "    </tr>\n",
       "  </tbody>\n",
       "</table>\n",
       "<p>1 rows × 31 columns</p>\n",
       "</div>"
      ],
      "text/plain": [
       "        id  nhogar  miembro  comuna             dominio  edad   sexo  \\\n",
       "4563  1803       1        4      12  Resto de la Ciudad    11  Mujer   \n",
       "\n",
       "          parentesco_jefe situacion_conyugal num_miembro_padre  ...  \\\n",
       "4563  Hijo/a - Hijastro/a     No corresponde                 1  ...   \n",
       "\n",
       "     ingreso_per_capita_familiar estado_educativo sector_educativo  \\\n",
       "4563                       13960           Asiste  Estatal/publico   \n",
       "\n",
       "        nivel_actual  nivel_max_educativo años_escolaridad  lugar_nacimiento  \\\n",
       "4563  Primario comun            Sala de 5                5              CABA   \n",
       "\n",
       "                  afiliacion_salud  hijos_nacidos_vivos  \\\n",
       "4563  Solo prepaga o mutual via OS                  NaN   \n",
       "\n",
       "     cantidad_hijos_nac_vivos  \n",
       "4563           No corresponde  \n",
       "\n",
       "[1 rows x 31 columns]"
      ]
     },
     "execution_count": 3,
     "metadata": {},
     "output_type": "execute_result"
    }
   ],
   "source": [
    "data.sample(1)"
   ]
  },
  {
   "cell_type": "code",
   "execution_count": 4,
   "metadata": {},
   "outputs": [
    {
     "data": {
      "text/html": [
       "<div>\n",
       "<style scoped>\n",
       "    .dataframe tbody tr th:only-of-type {\n",
       "        vertical-align: middle;\n",
       "    }\n",
       "\n",
       "    .dataframe tbody tr th {\n",
       "        vertical-align: top;\n",
       "    }\n",
       "\n",
       "    .dataframe thead th {\n",
       "        text-align: right;\n",
       "    }\n",
       "</style>\n",
       "<table border=\"1\" class=\"dataframe\">\n",
       "  <thead>\n",
       "    <tr style=\"text-align: right;\">\n",
       "      <th></th>\n",
       "      <th>variable</th>\n",
       "      <th>q_nan</th>\n",
       "      <th>p_nan</th>\n",
       "      <th>q_zeros</th>\n",
       "      <th>p_zeros</th>\n",
       "      <th>unique</th>\n",
       "      <th>type</th>\n",
       "    </tr>\n",
       "  </thead>\n",
       "  <tbody>\n",
       "    <tr>\n",
       "      <th>0</th>\n",
       "      <td>id</td>\n",
       "      <td>0</td>\n",
       "      <td>0.000000</td>\n",
       "      <td>0</td>\n",
       "      <td>0.000000</td>\n",
       "      <td>5795</td>\n",
       "      <td>int64</td>\n",
       "    </tr>\n",
       "    <tr>\n",
       "      <th>1</th>\n",
       "      <td>nhogar</td>\n",
       "      <td>0</td>\n",
       "      <td>0.000000</td>\n",
       "      <td>0</td>\n",
       "      <td>0.000000</td>\n",
       "      <td>7</td>\n",
       "      <td>int64</td>\n",
       "    </tr>\n",
       "    <tr>\n",
       "      <th>2</th>\n",
       "      <td>miembro</td>\n",
       "      <td>0</td>\n",
       "      <td>0.000000</td>\n",
       "      <td>0</td>\n",
       "      <td>0.000000</td>\n",
       "      <td>19</td>\n",
       "      <td>int64</td>\n",
       "    </tr>\n",
       "    <tr>\n",
       "      <th>3</th>\n",
       "      <td>comuna</td>\n",
       "      <td>0</td>\n",
       "      <td>0.000000</td>\n",
       "      <td>0</td>\n",
       "      <td>0.000000</td>\n",
       "      <td>15</td>\n",
       "      <td>int64</td>\n",
       "    </tr>\n",
       "    <tr>\n",
       "      <th>4</th>\n",
       "      <td>dominio</td>\n",
       "      <td>0</td>\n",
       "      <td>0.000000</td>\n",
       "      <td>0</td>\n",
       "      <td>0.000000</td>\n",
       "      <td>2</td>\n",
       "      <td>object</td>\n",
       "    </tr>\n",
       "    <tr>\n",
       "      <th>5</th>\n",
       "      <td>edad</td>\n",
       "      <td>0</td>\n",
       "      <td>0.000000</td>\n",
       "      <td>128</td>\n",
       "      <td>0.008939</td>\n",
       "      <td>101</td>\n",
       "      <td>int64</td>\n",
       "    </tr>\n",
       "    <tr>\n",
       "      <th>6</th>\n",
       "      <td>sexo</td>\n",
       "      <td>0</td>\n",
       "      <td>0.000000</td>\n",
       "      <td>0</td>\n",
       "      <td>0.000000</td>\n",
       "      <td>2</td>\n",
       "      <td>object</td>\n",
       "    </tr>\n",
       "    <tr>\n",
       "      <th>7</th>\n",
       "      <td>parentesco_jefe</td>\n",
       "      <td>0</td>\n",
       "      <td>0.000000</td>\n",
       "      <td>0</td>\n",
       "      <td>0.000000</td>\n",
       "      <td>9</td>\n",
       "      <td>object</td>\n",
       "    </tr>\n",
       "    <tr>\n",
       "      <th>8</th>\n",
       "      <td>situacion_conyugal</td>\n",
       "      <td>1</td>\n",
       "      <td>0.000070</td>\n",
       "      <td>0</td>\n",
       "      <td>0.000000</td>\n",
       "      <td>7</td>\n",
       "      <td>object</td>\n",
       "    </tr>\n",
       "    <tr>\n",
       "      <th>9</th>\n",
       "      <td>num_miembro_padre</td>\n",
       "      <td>0</td>\n",
       "      <td>0.000000</td>\n",
       "      <td>0</td>\n",
       "      <td>0.000000</td>\n",
       "      <td>9</td>\n",
       "      <td>object</td>\n",
       "    </tr>\n",
       "    <tr>\n",
       "      <th>10</th>\n",
       "      <td>num_miembro_madre</td>\n",
       "      <td>0</td>\n",
       "      <td>0.000000</td>\n",
       "      <td>0</td>\n",
       "      <td>0.000000</td>\n",
       "      <td>11</td>\n",
       "      <td>object</td>\n",
       "    </tr>\n",
       "    <tr>\n",
       "      <th>11</th>\n",
       "      <td>estado_ocupacional</td>\n",
       "      <td>0</td>\n",
       "      <td>0.000000</td>\n",
       "      <td>0</td>\n",
       "      <td>0.000000</td>\n",
       "      <td>3</td>\n",
       "      <td>object</td>\n",
       "    </tr>\n",
       "    <tr>\n",
       "      <th>12</th>\n",
       "      <td>cat_ocupacional</td>\n",
       "      <td>0</td>\n",
       "      <td>0.000000</td>\n",
       "      <td>0</td>\n",
       "      <td>0.000000</td>\n",
       "      <td>5</td>\n",
       "      <td>object</td>\n",
       "    </tr>\n",
       "    <tr>\n",
       "      <th>13</th>\n",
       "      <td>calidad_ingresos_lab</td>\n",
       "      <td>0</td>\n",
       "      <td>0.000000</td>\n",
       "      <td>0</td>\n",
       "      <td>0.000000</td>\n",
       "      <td>4</td>\n",
       "      <td>object</td>\n",
       "    </tr>\n",
       "    <tr>\n",
       "      <th>14</th>\n",
       "      <td>ingreso_total_lab</td>\n",
       "      <td>0</td>\n",
       "      <td>0.000000</td>\n",
       "      <td>6963</td>\n",
       "      <td>0.486277</td>\n",
       "      <td>440</td>\n",
       "      <td>int64</td>\n",
       "    </tr>\n",
       "    <tr>\n",
       "      <th>15</th>\n",
       "      <td>calidad_ingresos_no_lab</td>\n",
       "      <td>0</td>\n",
       "      <td>0.000000</td>\n",
       "      <td>0</td>\n",
       "      <td>0.000000</td>\n",
       "      <td>4</td>\n",
       "      <td>object</td>\n",
       "    </tr>\n",
       "    <tr>\n",
       "      <th>16</th>\n",
       "      <td>ingreso_total_no_lab</td>\n",
       "      <td>0</td>\n",
       "      <td>0.000000</td>\n",
       "      <td>10247</td>\n",
       "      <td>0.715623</td>\n",
       "      <td>375</td>\n",
       "      <td>int64</td>\n",
       "    </tr>\n",
       "    <tr>\n",
       "      <th>17</th>\n",
       "      <td>calidad_ingresos_totales</td>\n",
       "      <td>0</td>\n",
       "      <td>0.000000</td>\n",
       "      <td>0</td>\n",
       "      <td>0.000000</td>\n",
       "      <td>4</td>\n",
       "      <td>object</td>\n",
       "    </tr>\n",
       "    <tr>\n",
       "      <th>18</th>\n",
       "      <td>ingresos_totales</td>\n",
       "      <td>0</td>\n",
       "      <td>0.000000</td>\n",
       "      <td>4295</td>\n",
       "      <td>0.299951</td>\n",
       "      <td>678</td>\n",
       "      <td>int64</td>\n",
       "    </tr>\n",
       "    <tr>\n",
       "      <th>19</th>\n",
       "      <td>calidad_ingresos_familiares</td>\n",
       "      <td>0</td>\n",
       "      <td>0.000000</td>\n",
       "      <td>0</td>\n",
       "      <td>0.000000</td>\n",
       "      <td>3</td>\n",
       "      <td>object</td>\n",
       "    </tr>\n",
       "    <tr>\n",
       "      <th>20</th>\n",
       "      <td>ingresos_familiares</td>\n",
       "      <td>0</td>\n",
       "      <td>0.000000</td>\n",
       "      <td>76</td>\n",
       "      <td>0.005308</td>\n",
       "      <td>960</td>\n",
       "      <td>int64</td>\n",
       "    </tr>\n",
       "    <tr>\n",
       "      <th>21</th>\n",
       "      <td>ingreso_per_capita_familiar</td>\n",
       "      <td>0</td>\n",
       "      <td>0.000000</td>\n",
       "      <td>76</td>\n",
       "      <td>0.005308</td>\n",
       "      <td>1257</td>\n",
       "      <td>int64</td>\n",
       "    </tr>\n",
       "    <tr>\n",
       "      <th>22</th>\n",
       "      <td>estado_educativo</td>\n",
       "      <td>0</td>\n",
       "      <td>0.000000</td>\n",
       "      <td>0</td>\n",
       "      <td>0.000000</td>\n",
       "      <td>3</td>\n",
       "      <td>object</td>\n",
       "    </tr>\n",
       "    <tr>\n",
       "      <th>23</th>\n",
       "      <td>sector_educativo</td>\n",
       "      <td>3</td>\n",
       "      <td>0.000210</td>\n",
       "      <td>0</td>\n",
       "      <td>0.000000</td>\n",
       "      <td>4</td>\n",
       "      <td>object</td>\n",
       "    </tr>\n",
       "    <tr>\n",
       "      <th>24</th>\n",
       "      <td>nivel_actual</td>\n",
       "      <td>0</td>\n",
       "      <td>0.000000</td>\n",
       "      <td>0</td>\n",
       "      <td>0.000000</td>\n",
       "      <td>14</td>\n",
       "      <td>object</td>\n",
       "    </tr>\n",
       "    <tr>\n",
       "      <th>25</th>\n",
       "      <td>nivel_max_educativo</td>\n",
       "      <td>1054</td>\n",
       "      <td>0.073608</td>\n",
       "      <td>0</td>\n",
       "      <td>0.000000</td>\n",
       "      <td>7</td>\n",
       "      <td>object</td>\n",
       "    </tr>\n",
       "    <tr>\n",
       "      <th>26</th>\n",
       "      <td>años_escolaridad</td>\n",
       "      <td>62</td>\n",
       "      <td>0.004330</td>\n",
       "      <td>0</td>\n",
       "      <td>0.000000</td>\n",
       "      <td>20</td>\n",
       "      <td>object</td>\n",
       "    </tr>\n",
       "    <tr>\n",
       "      <th>27</th>\n",
       "      <td>lugar_nacimiento</td>\n",
       "      <td>1</td>\n",
       "      <td>0.000070</td>\n",
       "      <td>0</td>\n",
       "      <td>0.000000</td>\n",
       "      <td>7</td>\n",
       "      <td>object</td>\n",
       "    </tr>\n",
       "    <tr>\n",
       "      <th>28</th>\n",
       "      <td>afiliacion_salud</td>\n",
       "      <td>4</td>\n",
       "      <td>0.000279</td>\n",
       "      <td>0</td>\n",
       "      <td>0.000000</td>\n",
       "      <td>5</td>\n",
       "      <td>object</td>\n",
       "    </tr>\n",
       "    <tr>\n",
       "      <th>29</th>\n",
       "      <td>hijos_nacidos_vivos</td>\n",
       "      <td>7784</td>\n",
       "      <td>0.543613</td>\n",
       "      <td>0</td>\n",
       "      <td>0.000000</td>\n",
       "      <td>2</td>\n",
       "      <td>object</td>\n",
       "    </tr>\n",
       "    <tr>\n",
       "      <th>30</th>\n",
       "      <td>cantidad_hijos_nac_vivos</td>\n",
       "      <td>0</td>\n",
       "      <td>0.000000</td>\n",
       "      <td>0</td>\n",
       "      <td>0.000000</td>\n",
       "      <td>14</td>\n",
       "      <td>object</td>\n",
       "    </tr>\n",
       "  </tbody>\n",
       "</table>\n",
       "</div>"
      ],
      "text/plain": [
       "                       variable  q_nan     p_nan  q_zeros   p_zeros  unique  \\\n",
       "0                            id      0  0.000000        0  0.000000    5795   \n",
       "1                        nhogar      0  0.000000        0  0.000000       7   \n",
       "2                       miembro      0  0.000000        0  0.000000      19   \n",
       "3                        comuna      0  0.000000        0  0.000000      15   \n",
       "4                       dominio      0  0.000000        0  0.000000       2   \n",
       "5                          edad      0  0.000000      128  0.008939     101   \n",
       "6                          sexo      0  0.000000        0  0.000000       2   \n",
       "7               parentesco_jefe      0  0.000000        0  0.000000       9   \n",
       "8            situacion_conyugal      1  0.000070        0  0.000000       7   \n",
       "9             num_miembro_padre      0  0.000000        0  0.000000       9   \n",
       "10            num_miembro_madre      0  0.000000        0  0.000000      11   \n",
       "11           estado_ocupacional      0  0.000000        0  0.000000       3   \n",
       "12              cat_ocupacional      0  0.000000        0  0.000000       5   \n",
       "13         calidad_ingresos_lab      0  0.000000        0  0.000000       4   \n",
       "14            ingreso_total_lab      0  0.000000     6963  0.486277     440   \n",
       "15      calidad_ingresos_no_lab      0  0.000000        0  0.000000       4   \n",
       "16         ingreso_total_no_lab      0  0.000000    10247  0.715623     375   \n",
       "17     calidad_ingresos_totales      0  0.000000        0  0.000000       4   \n",
       "18             ingresos_totales      0  0.000000     4295  0.299951     678   \n",
       "19  calidad_ingresos_familiares      0  0.000000        0  0.000000       3   \n",
       "20          ingresos_familiares      0  0.000000       76  0.005308     960   \n",
       "21  ingreso_per_capita_familiar      0  0.000000       76  0.005308    1257   \n",
       "22             estado_educativo      0  0.000000        0  0.000000       3   \n",
       "23             sector_educativo      3  0.000210        0  0.000000       4   \n",
       "24                 nivel_actual      0  0.000000        0  0.000000      14   \n",
       "25          nivel_max_educativo   1054  0.073608        0  0.000000       7   \n",
       "26             años_escolaridad     62  0.004330        0  0.000000      20   \n",
       "27             lugar_nacimiento      1  0.000070        0  0.000000       7   \n",
       "28             afiliacion_salud      4  0.000279        0  0.000000       5   \n",
       "29          hijos_nacidos_vivos   7784  0.543613        0  0.000000       2   \n",
       "30     cantidad_hijos_nac_vivos      0  0.000000        0  0.000000      14   \n",
       "\n",
       "      type  \n",
       "0    int64  \n",
       "1    int64  \n",
       "2    int64  \n",
       "3    int64  \n",
       "4   object  \n",
       "5    int64  \n",
       "6   object  \n",
       "7   object  \n",
       "8   object  \n",
       "9   object  \n",
       "10  object  \n",
       "11  object  \n",
       "12  object  \n",
       "13  object  \n",
       "14   int64  \n",
       "15  object  \n",
       "16   int64  \n",
       "17  object  \n",
       "18   int64  \n",
       "19  object  \n",
       "20   int64  \n",
       "21   int64  \n",
       "22  object  \n",
       "23  object  \n",
       "24  object  \n",
       "25  object  \n",
       "26  object  \n",
       "27  object  \n",
       "28  object  \n",
       "29  object  \n",
       "30  object  "
      ]
     },
     "execution_count": 4,
     "metadata": {},
     "output_type": "execute_result"
    }
   ],
   "source": [
    "status(data)"
   ]
  },
  {
   "cell_type": "markdown",
   "metadata": {},
   "source": [
    "## Inspección inicial: "
   ]
  },
  {
   "cell_type": "code",
   "execution_count": 5,
   "metadata": {},
   "outputs": [
    {
     "data": {
      "text/html": [
       "<div>\n",
       "<style scoped>\n",
       "    .dataframe tbody tr th:only-of-type {\n",
       "        vertical-align: middle;\n",
       "    }\n",
       "\n",
       "    .dataframe tbody tr th {\n",
       "        vertical-align: top;\n",
       "    }\n",
       "\n",
       "    .dataframe thead th {\n",
       "        text-align: right;\n",
       "    }\n",
       "</style>\n",
       "<table border=\"1\" class=\"dataframe\">\n",
       "  <thead>\n",
       "    <tr style=\"text-align: right;\">\n",
       "      <th></th>\n",
       "      <th>nhogar</th>\n",
       "      <th>miembro</th>\n",
       "      <th>comuna</th>\n",
       "      <th>dominio</th>\n",
       "      <th>edad</th>\n",
       "      <th>sexo</th>\n",
       "      <th>parentesco_jefe</th>\n",
       "      <th>situacion_conyugal</th>\n",
       "      <th>num_miembro_padre</th>\n",
       "      <th>num_miembro_madre</th>\n",
       "      <th>...</th>\n",
       "      <th>ingresos_familiares</th>\n",
       "      <th>ingreso_per_capita_familiar</th>\n",
       "      <th>estado_educativo</th>\n",
       "      <th>sector_educativo</th>\n",
       "      <th>nivel_actual</th>\n",
       "      <th>nivel_max_educativo</th>\n",
       "      <th>años_escolaridad</th>\n",
       "      <th>lugar_nacimiento</th>\n",
       "      <th>afiliacion_salud</th>\n",
       "      <th>cantidad_hijos_nac_vivos</th>\n",
       "    </tr>\n",
       "  </thead>\n",
       "  <tbody>\n",
       "    <tr>\n",
       "      <th>12156</th>\n",
       "      <td>1</td>\n",
       "      <td>1</td>\n",
       "      <td>4</td>\n",
       "      <td>Resto de la Ciudad</td>\n",
       "      <td>69</td>\n",
       "      <td>Mujer</td>\n",
       "      <td>Jefe</td>\n",
       "      <td>Divorciado/a</td>\n",
       "      <td>No corresponde</td>\n",
       "      <td>No corresponde</td>\n",
       "      <td>...</td>\n",
       "      <td>50000</td>\n",
       "      <td>50000</td>\n",
       "      <td>No asiste pero asistió</td>\n",
       "      <td>No corresponde</td>\n",
       "      <td>No corresponde</td>\n",
       "      <td>Primario especial</td>\n",
       "      <td>12</td>\n",
       "      <td>CABA</td>\n",
       "      <td>Otros</td>\n",
       "      <td>2</td>\n",
       "    </tr>\n",
       "    <tr>\n",
       "      <th>8777</th>\n",
       "      <td>1</td>\n",
       "      <td>3</td>\n",
       "      <td>5</td>\n",
       "      <td>Resto de la Ciudad</td>\n",
       "      <td>28</td>\n",
       "      <td>Mujer</td>\n",
       "      <td>Hijo/a - Hijastro/a</td>\n",
       "      <td>Soltero/a</td>\n",
       "      <td>No corresponde</td>\n",
       "      <td>No corresponde</td>\n",
       "      <td>...</td>\n",
       "      <td>47000</td>\n",
       "      <td>15667</td>\n",
       "      <td>No asiste pero asistió</td>\n",
       "      <td>No corresponde</td>\n",
       "      <td>No corresponde</td>\n",
       "      <td>Primario especial</td>\n",
       "      <td>12</td>\n",
       "      <td>CABA</td>\n",
       "      <td>Solo obra social</td>\n",
       "      <td>No corresponde</td>\n",
       "    </tr>\n",
       "    <tr>\n",
       "      <th>9814</th>\n",
       "      <td>1</td>\n",
       "      <td>4</td>\n",
       "      <td>15</td>\n",
       "      <td>Resto de la Ciudad</td>\n",
       "      <td>17</td>\n",
       "      <td>Varon</td>\n",
       "      <td>Hijo/a - Hijastro/a</td>\n",
       "      <td>Soltero/a</td>\n",
       "      <td>Padre no vive en el hogar</td>\n",
       "      <td>2</td>\n",
       "      <td>...</td>\n",
       "      <td>43200</td>\n",
       "      <td>7200</td>\n",
       "      <td>Asiste</td>\n",
       "      <td>Estatal/publico</td>\n",
       "      <td>Secundario/medio comun</td>\n",
       "      <td>EGB (1° a 9° año)</td>\n",
       "      <td>10</td>\n",
       "      <td>CABA</td>\n",
       "      <td>Solo obra social</td>\n",
       "      <td>No corresponde</td>\n",
       "    </tr>\n",
       "    <tr>\n",
       "      <th>7276</th>\n",
       "      <td>1</td>\n",
       "      <td>4</td>\n",
       "      <td>7</td>\n",
       "      <td>Villas de emergencia</td>\n",
       "      <td>23</td>\n",
       "      <td>Varon</td>\n",
       "      <td>Hijo/a - Hijastro/a</td>\n",
       "      <td>Soltero/a</td>\n",
       "      <td>2</td>\n",
       "      <td>1</td>\n",
       "      <td>...</td>\n",
       "      <td>38000</td>\n",
       "      <td>7600</td>\n",
       "      <td>Asiste</td>\n",
       "      <td>Estatal/publico</td>\n",
       "      <td>Terciario/superior no universitario</td>\n",
       "      <td>Otras escuelas especiales</td>\n",
       "      <td>14</td>\n",
       "      <td>CABA</td>\n",
       "      <td>Solo obra social</td>\n",
       "      <td>No corresponde</td>\n",
       "    </tr>\n",
       "    <tr>\n",
       "      <th>12906</th>\n",
       "      <td>1</td>\n",
       "      <td>1</td>\n",
       "      <td>4</td>\n",
       "      <td>Resto de la Ciudad</td>\n",
       "      <td>73</td>\n",
       "      <td>Mujer</td>\n",
       "      <td>Jefe</td>\n",
       "      <td>Viudo/a</td>\n",
       "      <td>No corresponde</td>\n",
       "      <td>No corresponde</td>\n",
       "      <td>...</td>\n",
       "      <td>31000</td>\n",
       "      <td>15500</td>\n",
       "      <td>No asiste pero asistió</td>\n",
       "      <td>No corresponde</td>\n",
       "      <td>No corresponde</td>\n",
       "      <td>Otras escuelas especiales</td>\n",
       "      <td>14</td>\n",
       "      <td>CABA</td>\n",
       "      <td>Solo obra social</td>\n",
       "      <td>2</td>\n",
       "    </tr>\n",
       "  </tbody>\n",
       "</table>\n",
       "<p>5 rows × 29 columns</p>\n",
       "</div>"
      ],
      "text/plain": [
       "       nhogar  miembro  comuna               dominio  edad   sexo  \\\n",
       "12156       1        1       4    Resto de la Ciudad    69  Mujer   \n",
       "8777        1        3       5    Resto de la Ciudad    28  Mujer   \n",
       "9814        1        4      15    Resto de la Ciudad    17  Varon   \n",
       "7276        1        4       7  Villas de emergencia    23  Varon   \n",
       "12906       1        1       4    Resto de la Ciudad    73  Mujer   \n",
       "\n",
       "           parentesco_jefe situacion_conyugal          num_miembro_padre  \\\n",
       "12156                 Jefe       Divorciado/a             No corresponde   \n",
       "8777   Hijo/a - Hijastro/a          Soltero/a             No corresponde   \n",
       "9814   Hijo/a - Hijastro/a          Soltero/a  Padre no vive en el hogar   \n",
       "7276   Hijo/a - Hijastro/a          Soltero/a                          2   \n",
       "12906                 Jefe            Viudo/a             No corresponde   \n",
       "\n",
       "      num_miembro_madre  ... ingresos_familiares ingreso_per_capita_familiar  \\\n",
       "12156    No corresponde  ...               50000                       50000   \n",
       "8777     No corresponde  ...               47000                       15667   \n",
       "9814                  2  ...               43200                        7200   \n",
       "7276                  1  ...               38000                        7600   \n",
       "12906    No corresponde  ...               31000                       15500   \n",
       "\n",
       "             estado_educativo  sector_educativo  \\\n",
       "12156  No asiste pero asistió    No corresponde   \n",
       "8777   No asiste pero asistió    No corresponde   \n",
       "9814                   Asiste   Estatal/publico   \n",
       "7276                   Asiste   Estatal/publico   \n",
       "12906  No asiste pero asistió    No corresponde   \n",
       "\n",
       "                              nivel_actual        nivel_max_educativo  \\\n",
       "12156                       No corresponde          Primario especial   \n",
       "8777                        No corresponde          Primario especial   \n",
       "9814                Secundario/medio comun          EGB (1° a 9° año)   \n",
       "7276   Terciario/superior no universitario  Otras escuelas especiales   \n",
       "12906                       No corresponde  Otras escuelas especiales   \n",
       "\n",
       "      años_escolaridad  lugar_nacimiento  afiliacion_salud  \\\n",
       "12156               12              CABA             Otros   \n",
       "8777                12              CABA  Solo obra social   \n",
       "9814                10              CABA  Solo obra social   \n",
       "7276                14              CABA  Solo obra social   \n",
       "12906               14              CABA  Solo obra social   \n",
       "\n",
       "       cantidad_hijos_nac_vivos  \n",
       "12156                         2  \n",
       "8777             No corresponde  \n",
       "9814             No corresponde  \n",
       "7276             No corresponde  \n",
       "12906                         2  \n",
       "\n",
       "[5 rows x 29 columns]"
      ]
     },
     "execution_count": 5,
     "metadata": {},
     "output_type": "execute_result"
    }
   ],
   "source": [
    "# sacar id e hijos_nacidos_vivos\n",
    "\n",
    "data = data.drop([\"id\", \"hijos_nacidos_vivos\"], axis=1)\n",
    "data.sample(5)"
   ]
  },
  {
   "cell_type": "markdown",
   "metadata": {},
   "source": [
    "## Discretización"
   ]
  },
  {
   "cell_type": "code",
   "execution_count": 6,
   "metadata": {},
   "outputs": [],
   "source": [
    "# Discretización de ingresos_familiares e ingreso_per_capita_familiar\n",
    "# Usamos drop para eliminar los valores duplicados\n",
    "\n",
    "data[\"ingresos_familiares_cat_rd\"] = pd.cut(data[\"ingresos_familiares\"], bins=8, duplicates=\"drop\")\n",
    "data[\"ingresos_familiares_cat_f\"] = pd.qcut(data[\"ingresos_familiares\"], q=8, duplicates=\"drop\")\n",
    "\n",
    "data[\"ingreso_per_capita_familiar_cat_rd\"] = pd.cut(data[\"ingreso_per_capita_familiar\"], bins=10, duplicates=\"drop\")\n",
    "data[\"ingreso_per_capita_familiar_cat_f\"] = pd.qcut(data[\"ingreso_per_capita_familiar\"], q=10, duplicates=\"drop\")\n"
   ]
  },
  {
   "cell_type": "code",
   "execution_count": 7,
   "metadata": {},
   "outputs": [
    {
     "data": {
      "text/html": [
       "<div>\n",
       "<style scoped>\n",
       "    .dataframe tbody tr th:only-of-type {\n",
       "        vertical-align: middle;\n",
       "    }\n",
       "\n",
       "    .dataframe tbody tr th {\n",
       "        vertical-align: top;\n",
       "    }\n",
       "\n",
       "    .dataframe thead th {\n",
       "        text-align: right;\n",
       "    }\n",
       "</style>\n",
       "<table border=\"1\" class=\"dataframe\">\n",
       "  <thead>\n",
       "    <tr style=\"text-align: right;\">\n",
       "      <th></th>\n",
       "      <th>ingresos_familiares</th>\n",
       "      <th>ingresos_familiares_cat_rd</th>\n",
       "      <th>ingresos_familiares_cat_f</th>\n",
       "      <th>ingreso_per_capita_familiar</th>\n",
       "      <th>ingreso_per_capita_familiar_cat_rd</th>\n",
       "      <th>ingreso_per_capita_familiar_cat_f</th>\n",
       "    </tr>\n",
       "  </thead>\n",
       "  <tbody>\n",
       "    <tr>\n",
       "      <th>12208</th>\n",
       "      <td>80000</td>\n",
       "      <td>(-1000.0, 125000.0]</td>\n",
       "      <td>(70000.0, 90000.0]</td>\n",
       "      <td>40000</td>\n",
       "      <td>(-1000.0, 100000.0]</td>\n",
       "      <td>(38300.0, 52340.0]</td>\n",
       "    </tr>\n",
       "    <tr>\n",
       "      <th>15</th>\n",
       "      <td>20000</td>\n",
       "      <td>(-1000.0, 125000.0]</td>\n",
       "      <td>(-0.001, 20800.0]</td>\n",
       "      <td>20000</td>\n",
       "      <td>(-1000.0, 100000.0]</td>\n",
       "      <td>(19900.0, 24000.0]</td>\n",
       "    </tr>\n",
       "    <tr>\n",
       "      <th>5564</th>\n",
       "      <td>116000</td>\n",
       "      <td>(-1000.0, 125000.0]</td>\n",
       "      <td>(90000.0, 124000.0]</td>\n",
       "      <td>23200</td>\n",
       "      <td>(-1000.0, 100000.0]</td>\n",
       "      <td>(19900.0, 24000.0]</td>\n",
       "    </tr>\n",
       "    <tr>\n",
       "      <th>3528</th>\n",
       "      <td>27000</td>\n",
       "      <td>(-1000.0, 125000.0]</td>\n",
       "      <td>(20800.0, 30000.0]</td>\n",
       "      <td>6750</td>\n",
       "      <td>(-1000.0, 100000.0]</td>\n",
       "      <td>(5400.0, 8700.0]</td>\n",
       "    </tr>\n",
       "    <tr>\n",
       "      <th>3690</th>\n",
       "      <td>57000</td>\n",
       "      <td>(-1000.0, 125000.0]</td>\n",
       "      <td>(54000.0, 70000.0]</td>\n",
       "      <td>14250</td>\n",
       "      <td>(-1000.0, 100000.0]</td>\n",
       "      <td>(12000.0, 15016.0]</td>\n",
       "    </tr>\n",
       "  </tbody>\n",
       "</table>\n",
       "</div>"
      ],
      "text/plain": [
       "       ingresos_familiares ingresos_familiares_cat_rd  \\\n",
       "12208                80000        (-1000.0, 125000.0]   \n",
       "15                   20000        (-1000.0, 125000.0]   \n",
       "5564                116000        (-1000.0, 125000.0]   \n",
       "3528                 27000        (-1000.0, 125000.0]   \n",
       "3690                 57000        (-1000.0, 125000.0]   \n",
       "\n",
       "      ingresos_familiares_cat_f  ingreso_per_capita_familiar  \\\n",
       "12208        (70000.0, 90000.0]                        40000   \n",
       "15            (-0.001, 20800.0]                        20000   \n",
       "5564        (90000.0, 124000.0]                        23200   \n",
       "3528         (20800.0, 30000.0]                         6750   \n",
       "3690         (54000.0, 70000.0]                        14250   \n",
       "\n",
       "      ingreso_per_capita_familiar_cat_rd ingreso_per_capita_familiar_cat_f  \n",
       "12208                (-1000.0, 100000.0]                (38300.0, 52340.0]  \n",
       "15                   (-1000.0, 100000.0]                (19900.0, 24000.0]  \n",
       "5564                 (-1000.0, 100000.0]                (19900.0, 24000.0]  \n",
       "3528                 (-1000.0, 100000.0]                  (5400.0, 8700.0]  \n",
       "3690                 (-1000.0, 100000.0]                (12000.0, 15016.0]  "
      ]
     },
     "execution_count": 7,
     "metadata": {},
     "output_type": "execute_result"
    }
   ],
   "source": [
    "data.sample(5)[[\"ingresos_familiares\",\"ingresos_familiares_cat_rd\",\"ingresos_familiares_cat_f\",\"ingreso_per_capita_familiar\",\"ingreso_per_capita_familiar_cat_rd\",\"ingreso_per_capita_familiar_cat_f\"]]"
   ]
  },
  {
   "cell_type": "code",
   "execution_count": 8,
   "metadata": {},
   "outputs": [
    {
     "name": "stdout",
     "output_type": "stream",
     "text": [
      "Valores distintos vs solicitados: \n",
      "\n",
      "ingresos_familiares_cat_rd: 7 (8)\n",
      "ingresos_familiares_cat_f: 8 (8)\n",
      "ingreso_per_capita_familiar_cat_rd: 6 (10)\n",
      "ingreso_per_capita_familiar_cat_f: 10 (10)\n"
     ]
    }
   ],
   "source": [
    "# Revisemos si pudo cumplir los cortes: \n",
    "\n",
    "print(\"Valores distintos vs solicitados: \")\n",
    "print(\"\")\n",
    "\n",
    "print(\"ingresos_familiares_cat_rd: \" + str(len(data[\"ingresos_familiares_cat_rd\"].unique())) + \" (8)\")\n",
    "\n",
    "print(\"ingresos_familiares_cat_f: \" + str(len(data[\"ingresos_familiares_cat_f\"].unique())) + \" (8)\")\n",
    "\n",
    "print(\"ingreso_per_capita_familiar_cat_rd: \" + str(len(data[\"ingreso_per_capita_familiar_cat_rd\"].unique())) + \" (10)\")\n",
    "\n",
    "print(\"ingreso_per_capita_familiar_cat_f: \" + str(len(data[\"ingreso_per_capita_familiar_cat_f\"].unique())) + \" (10)\")"
   ]
  },
  {
   "cell_type": "code",
   "execution_count": 9,
   "metadata": {},
   "outputs": [
    {
     "name": "stdout",
     "output_type": "stream",
     "text": [
      "ingresos_familiares_cat_rd\n",
      "(-1000.0, 125000.0]      12573\n",
      "(125000.0, 250000.0]      1482\n",
      "(250000.0, 375000.0]       185\n",
      "(375000.0, 500000.0]        41\n",
      "(500000.0, 625000.0]        28\n",
      "(625000.0, 750000.0]         9\n",
      "(750000.0, 875000.0]         0\n",
      "(875000.0, 1000000.0]        1\n",
      "Name: count, dtype: int64\n",
      "----------\n",
      "ingresos_familiares_cat_f\n",
      "(-0.001, 20800.0]        1796\n",
      "(20800.0, 30000.0]       1810\n",
      "(30000.0, 42000.0]       1841\n",
      "(42000.0, 54000.0]       1721\n",
      "(54000.0, 70000.0]       1905\n",
      "(70000.0, 90000.0]       1781\n",
      "(90000.0, 124000.0]      1677\n",
      "(124000.0, 1000000.0]    1788\n",
      "Name: count, dtype: int64\n"
     ]
    }
   ],
   "source": [
    "# Revisemos los intervalos y las frecuencias de ingresos_familiares\n",
    "\n",
    "print(data[\"ingresos_familiares_cat_rd\"].value_counts().sort_index())\n",
    "print(\"-\" * 10)\n",
    "print(data[\"ingresos_familiares_cat_f\"].value_counts().sort_index())\n"
   ]
  },
  {
   "cell_type": "code",
   "execution_count": 10,
   "metadata": {},
   "outputs": [
    {
     "name": "stdout",
     "output_type": "stream",
     "text": [
      "ingreso_per_capita_familiar_cat_rd\n",
      "(-1000.0, 100000.0]      14068\n",
      "(100000.0, 200000.0]       217\n",
      "(200000.0, 300000.0]        25\n",
      "(300000.0, 400000.0]         4\n",
      "(400000.0, 500000.0]         4\n",
      "(500000.0, 600000.0]         0\n",
      "(600000.0, 700000.0]         0\n",
      "(700000.0, 800000.0]         0\n",
      "(800000.0, 900000.0]         0\n",
      "(900000.0, 1000000.0]        1\n",
      "Name: count, dtype: int64\n",
      "----------\n",
      "ingreso_per_capita_familiar_cat_f\n",
      "(-0.001, 5400.0]        1434\n",
      "(5400.0, 8700.0]        1431\n",
      "(8700.0, 12000.0]       1554\n",
      "(12000.0, 15016.0]      1309\n",
      "(15016.0, 19900.0]      1432\n",
      "(19900.0, 24000.0]      1460\n",
      "(24000.0, 30000.0]      1594\n",
      "(30000.0, 38300.0]      1243\n",
      "(38300.0, 52340.0]      1430\n",
      "(52340.0, 1000000.0]    1432\n",
      "Name: count, dtype: int64\n"
     ]
    }
   ],
   "source": [
    "# Revisemos los intervalos y frecuencias de ingreso_per_capita_familiar\n",
    "\n",
    "print(data[\"ingreso_per_capita_familiar_cat_rd\"].value_counts().sort_index())\n",
    "print(\"-\" * 10)\n",
    "print(data[\"ingreso_per_capita_familiar_cat_f\"].value_counts().sort_index())"
   ]
  },
  {
   "cell_type": "markdown",
   "metadata": {},
   "source": [
    "Se observa que en los ingresos familiares y per cápita, la discretización por rangos o distancia no logra cumplir con la cantidad de intervalos deseados y genera rangos con cero o muy pocos casos, por lo que no se recomienda su uso."
   ]
  },
  {
   "cell_type": "code",
   "execution_count": 11,
   "metadata": {},
   "outputs": [],
   "source": [
    "# Discretizamos ingreso_total_lab y ingreso_total_no_lab for frecuencias\n",
    "\n",
    "data[\"ingreso_total_lab_cat_f\"] = pd.qcut(data[\"ingreso_total_lab\"], q=10, duplicates=\"drop\")\n",
    "\n",
    "data[\"ingreso_total_no_lab_cat_f\"] = pd.qcut(data[\"ingreso_total_no_lab\"], q=4, duplicates=\"drop\")"
   ]
  },
  {
   "cell_type": "code",
   "execution_count": 12,
   "metadata": {},
   "outputs": [],
   "source": [
    "# Discretizamos edad por rango o distancia en 5 bins    \n",
    "\n",
    "data[\"edad_cat_rd\"] = pd.cut(data[\"edad\"], bins=5, duplicates=\"drop\")"
   ]
  },
  {
   "cell_type": "code",
   "execution_count": 13,
   "metadata": {},
   "outputs": [
    {
     "name": "stdout",
     "output_type": "stream",
     "text": [
      "ingreso_total_lab_cat_f\n",
      "(-0.001, 2500.0]        7168\n",
      "(2500.0, 15000.0]       1499\n",
      "(15000.0, 25000.0]      1397\n",
      "(25000.0, 37000.0]      1431\n",
      "(37000.0, 56000.0]      1397\n",
      "(56000.0, 1000000.0]    1427\n",
      "Name: count, dtype: int64\n",
      "----------\n",
      "ingreso_total_no_lab_cat_f\n",
      "(-0.001, 4000.0]      10741\n",
      "(4000.0, 500000.0]     3578\n",
      "Name: count, dtype: int64\n",
      "----------\n",
      "edad_cat_rd\n",
      "(-0.1, 20.0]     3669\n",
      "(20.0, 40.0]     4204\n",
      "(40.0, 60.0]     3452\n",
      "(60.0, 80.0]     2448\n",
      "(80.0, 100.0]     546\n",
      "Name: count, dtype: int64\n",
      "----------\n"
     ]
    }
   ],
   "source": [
    "# Revisemos los intervalos y las frecuencias\n",
    "\n",
    "print(data[\"ingreso_total_lab_cat_f\"].value_counts().sort_index())\n",
    "print(\"-\" * 10)\n",
    "print(data[\"ingreso_total_no_lab_cat_f\"].value_counts().sort_index())\n",
    "print(\"-\" * 10)\n",
    "print(data[\"edad_cat_rd\"].value_counts().sort_index())\n",
    "print(\"-\" * 10)"
   ]
  },
  {
   "cell_type": "markdown",
   "metadata": {},
   "source": [
    "Se observa que no ha podido respetar la cantidad de rangos en ninguno de los 3 casos:\n",
    "\n",
    "- para ingreso_total_lab_cat_f en lugar de 10 hizo 6 intervalos\n",
    "- para ingreso_total_no_lab_cat_f en lugar de 4 hizo 2\n",
    "- para edad en lugar de 6 hizo 5."
   ]
  },
  {
   "cell_type": "code",
   "execution_count": 14,
   "metadata": {},
   "outputs": [
    {
     "name": "stdout",
     "output_type": "stream",
     "text": [
      "[(-0.1, 20.0], (40.0, 60.0], (20.0, 40.0], (60.0, 80.0], (80.0, 100.0]]\n",
      "Categories (5, interval[float64, right]): [(-0.1, 20.0] < (20.0, 40.0] < (40.0, 60.0] < (60.0, 80.0] < (80.0, 100.0]]\n"
     ]
    }
   ],
   "source": [
    "# Ordenamos el dataset para dehacernos de las columnas redundantes y que quede como la respuesta del profe\n",
    "\n",
    "data[\"ingresos_familiares\"] = data[\"ingresos_familiares_cat_f\"]\n",
    "data[\"ingreso_per_capita_familiar\"] = data[\"ingreso_per_capita_familiar_cat_f\"]\n",
    "data[\"ingreso_total_lab\"] = data[\"ingreso_total_lab_cat_f\"]\n",
    "data[\"ingreso_total_no_lab\"] = data[\"ingreso_total_no_lab_cat_f\"]\n",
    "data[\"edad\"] = data[\"edad_cat_rd\"]\n",
    "\n",
    "print(data[\"edad\"].unique())"
   ]
  },
  {
   "cell_type": "code",
   "execution_count": 15,
   "metadata": {},
   "outputs": [],
   "source": [
    "# Elimino las columnas de categorías que ya no necesito\n",
    "\n",
    "data = data.drop([\"ingresos_familiares_cat_f\", \"ingresos_familiares_cat_rd\", \"ingreso_per_capita_familiar_cat_f\",\n",
    "\"ingreso_per_capita_familiar_cat_rd\", \"ingreso_total_lab_cat_f\", \"ingreso_total_no_lab_cat_f\", \"edad_cat_rd\"], axis=1)"
   ]
  },
  {
   "cell_type": "markdown",
   "metadata": {},
   "source": [
    "## Preparación de los datos"
   ]
  },
  {
   "cell_type": "markdown",
   "metadata": {},
   "source": [
    "- Cambien el tipo de dato a `str` de las siguientes columnas: `comuna` y `nhogar`."
   ]
  },
  {
   "cell_type": "code",
   "execution_count": 16,
   "metadata": {},
   "outputs": [],
   "source": [
    "data[[\"comuna\",\"nhogar\"]] = data[[\"comuna\",\"nhogar\"]].astype(str)"
   ]
  },
  {
   "cell_type": "code",
   "execution_count": 17,
   "metadata": {},
   "outputs": [
    {
     "data": {
      "text/plain": [
       "comuna    object\n",
       "nhogar    object\n",
       "dtype: object"
      ]
     },
     "execution_count": 17,
     "metadata": {},
     "output_type": "execute_result"
    }
   ],
   "source": [
    "data[[\"comuna\",\"nhogar\"]].dtypes"
   ]
  },
  {
   "cell_type": "markdown",
   "metadata": {},
   "source": [
    "- _¿Qué esperas como valor en la columna `años_escolaridad`?_ Número enteros pero no siempre es así, cada entidad o empresa tiene diferentes formas de rellenar una encuesta.\n",
    "    <br>Evalua lo siguiente: `data['años_escolaridad'].unique()`, vas a poder ver los valores únicos en la columna. Donde destacamos que todos son `object/string`.\n"
   ]
  },
  {
   "cell_type": "code",
   "execution_count": 18,
   "metadata": {},
   "outputs": [
    {
     "data": {
      "text/plain": [
       "array(['12', '17', '10', '8', 'Ningun año de escolaridad aprobado', '11',\n",
       "       '9', '13', '7', '16', '14', '15', '5', '6', '2', '19', '4', '1',\n",
       "       '3', '18', nan], dtype=object)"
      ]
     },
     "execution_count": 18,
     "metadata": {},
     "output_type": "execute_result"
    }
   ],
   "source": [
    "data['años_escolaridad'].unique()"
   ]
  },
  {
   "cell_type": "code",
   "execution_count": 19,
   "metadata": {},
   "outputs": [
    {
     "data": {
      "text/plain": [
       "años_escolaridad    object\n",
       "dtype: object"
      ]
     },
     "execution_count": 19,
     "metadata": {},
     "output_type": "execute_result"
    }
   ],
   "source": [
    "data[['años_escolaridad']].dtypes"
   ]
  },
  {
   "cell_type": "markdown",
   "metadata": {},
   "source": [
    "- Reemplazar `Ningun año de escolaridad aprobado` por un '0'. \n",
    "<br>Efectivamente por '0' y no 0, porque esta columna maneja datos tipo `object/string`.\n",
    "    ```\n",
    "    data['años_escolaridad'] = data['años_escolaridad'].replace('Ningun año de escolaridad aprobado', '0')\n",
    "    ```"
   ]
  },
  {
   "cell_type": "code",
   "execution_count": 20,
   "metadata": {},
   "outputs": [
    {
     "name": "stderr",
     "output_type": "stream",
     "text": [
      "C:\\Users\\alejo\\AppData\\Local\\Temp\\ipykernel_8272\\2906911269.py:1: FutureWarning: A value is trying to be set on a copy of a DataFrame or Series through chained assignment using an inplace method.\n",
      "The behavior will change in pandas 3.0. This inplace method will never work because the intermediate object on which we are setting values always behaves as a copy.\n",
      "\n",
      "For example, when doing 'df[col].method(value, inplace=True)', try using 'df.method({col: value}, inplace=True)' or df[col] = df[col].method(value) instead, to perform the operation inplace on the original object.\n",
      "\n",
      "\n",
      "  data[\"años_escolaridad\"].replace({\"Ningun año de escolaridad aprobado\": \"0\"}, inplace=True)\n"
     ]
    }
   ],
   "source": [
    "data[\"años_escolaridad\"].replace({\"Ningun año de escolaridad aprobado\": \"0\"}, inplace=True)"
   ]
  },
  {
   "cell_type": "code",
   "execution_count": 21,
   "metadata": {},
   "outputs": [
    {
     "data": {
      "text/plain": [
       "array(['12', '17', '10', '8', '0', '11', '9', '13', '7', '16', '14', '15',\n",
       "       '5', '6', '2', '19', '4', '1', '3', '18', nan], dtype=object)"
      ]
     },
     "execution_count": 21,
     "metadata": {},
     "output_type": "execute_result"
    }
   ],
   "source": [
    "data['años_escolaridad'].unique()"
   ]
  },
  {
   "cell_type": "markdown",
   "metadata": {},
   "source": [
    "- Vamos a convertir los tipos de datos de la columna anterior `años_escolaridad` a enteros.\n",
    "    <br>De manera intuitiva podríamos hacer:\n",
    "    ```\n",
    "    data['años_escolaridad'] = data['años_escolaridad'].astype(\"Int32\")\n",
    "    ```\n",
    "    Posiblemente muchas veces les pase que cuando hagan una _cast_ (conversión de un tipo de dato a otro) pueden llegar a tener conflictos si esa columna tienen _NaN_. Para este caso si queremos convertir los valores de la columna `años_escolaridad` de _string_ a _int_, hay que hacer un paso intermedio que es pasarlo a _float_.\n",
    "    ```\n",
    "    data['años_escolaridad'] = data['años_escolaridad'].astype(float).astype(\"Int32\")\n",
    "    ```\n"
   ]
  },
  {
   "cell_type": "code",
   "execution_count": 22,
   "metadata": {},
   "outputs": [],
   "source": [
    "data['años_escolaridad'] = data['años_escolaridad'].astype(float).astype('Int32')"
   ]
  },
  {
   "cell_type": "code",
   "execution_count": 23,
   "metadata": {},
   "outputs": [
    {
     "data": {
      "text/plain": [
       "años_escolaridad    Int32\n",
       "dtype: object"
      ]
     },
     "execution_count": 23,
     "metadata": {},
     "output_type": "execute_result"
    }
   ],
   "source": [
    "data[['años_escolaridad']].dtypes"
   ]
  },
  {
   "cell_type": "code",
   "execution_count": 24,
   "metadata": {},
   "outputs": [
    {
     "data": {
      "text/plain": [
       "<IntegerArray>\n",
       "[12, 17, 10, 8, 0, 11, 9, 13, 7, 16, 14, 15, 5, 6, 2, 19, 4, 1, 3, 18, <NA>]\n",
       "Length: 21, dtype: Int32"
      ]
     },
     "execution_count": 24,
     "metadata": {},
     "output_type": "execute_result"
    }
   ],
   "source": [
    "data['años_escolaridad'].unique()"
   ]
  },
  {
   "cell_type": "markdown",
   "metadata": {},
   "source": [
    "- Discreticen para la columna `años_escolaridad` por igual frecuencia e igual rango con un `q=5`"
   ]
  },
  {
   "cell_type": "code",
   "execution_count": 25,
   "metadata": {},
   "outputs": [
    {
     "data": {
      "text/html": [
       "<div>\n",
       "<style scoped>\n",
       "    .dataframe tbody tr th:only-of-type {\n",
       "        vertical-align: middle;\n",
       "    }\n",
       "\n",
       "    .dataframe tbody tr th {\n",
       "        vertical-align: top;\n",
       "    }\n",
       "\n",
       "    .dataframe thead th {\n",
       "        text-align: right;\n",
       "    }\n",
       "</style>\n",
       "<table border=\"1\" class=\"dataframe\">\n",
       "  <thead>\n",
       "    <tr style=\"text-align: right;\">\n",
       "      <th></th>\n",
       "      <th>años_escolaridad</th>\n",
       "      <th>años_escolaridad_cat_rd</th>\n",
       "      <th>años_escolaridad_cat_f</th>\n",
       "    </tr>\n",
       "  </thead>\n",
       "  <tbody>\n",
       "    <tr>\n",
       "      <th>0</th>\n",
       "      <td>12</td>\n",
       "      <td>(11.4, 15.2]</td>\n",
       "      <td>(11.0, 12.0]</td>\n",
       "    </tr>\n",
       "    <tr>\n",
       "      <th>1</th>\n",
       "      <td>12</td>\n",
       "      <td>(11.4, 15.2]</td>\n",
       "      <td>(11.0, 12.0]</td>\n",
       "    </tr>\n",
       "    <tr>\n",
       "      <th>2</th>\n",
       "      <td>12</td>\n",
       "      <td>(11.4, 15.2]</td>\n",
       "      <td>(11.0, 12.0]</td>\n",
       "    </tr>\n",
       "    <tr>\n",
       "      <th>3</th>\n",
       "      <td>17</td>\n",
       "      <td>(15.2, 19.0]</td>\n",
       "      <td>(16.0, 19.0]</td>\n",
       "    </tr>\n",
       "    <tr>\n",
       "      <th>4</th>\n",
       "      <td>10</td>\n",
       "      <td>(7.6, 11.4]</td>\n",
       "      <td>(7.0, 11.0]</td>\n",
       "    </tr>\n",
       "  </tbody>\n",
       "</table>\n",
       "</div>"
      ],
      "text/plain": [
       "   años_escolaridad años_escolaridad_cat_rd años_escolaridad_cat_f\n",
       "0                12            (11.4, 15.2]           (11.0, 12.0]\n",
       "1                12            (11.4, 15.2]           (11.0, 12.0]\n",
       "2                12            (11.4, 15.2]           (11.0, 12.0]\n",
       "3                17            (15.2, 19.0]           (16.0, 19.0]\n",
       "4                10             (7.6, 11.4]            (7.0, 11.0]"
      ]
     },
     "execution_count": 25,
     "metadata": {},
     "output_type": "execute_result"
    }
   ],
   "source": [
    "data[\"años_escolaridad_cat_rd\"] = pd.cut(data[\"años_escolaridad\"], bins=5)\n",
    "data[\"años_escolaridad_cat_f\"] = pd.qcut(data[\"años_escolaridad\"], q=5)\n",
    "\n",
    "data[[\"años_escolaridad\",\"años_escolaridad_cat_rd\",\"años_escolaridad_cat_f\"]].head(5)"
   ]
  },
  {
   "cell_type": "code",
   "execution_count": 26,
   "metadata": {},
   "outputs": [
    {
     "name": "stdout",
     "output_type": "stream",
     "text": [
      "años_escolaridad_cat_rd\n",
      "(-0.019, 3.8]    1924\n",
      "(3.8, 7.6]       1927\n",
      "(7.6, 11.4]      1975\n",
      "(11.4, 15.2]     5527\n",
      "(15.2, 19.0]     2904\n",
      "Name: count, dtype: int64\n",
      "----------\n",
      "años_escolaridad_cat_f\n",
      "(-0.001, 7.0]    3851\n",
      "(7.0, 11.0]      1975\n",
      "(11.0, 12.0]     2824\n",
      "(12.0, 16.0]     3037\n",
      "(16.0, 19.0]     2570\n",
      "Name: count, dtype: int64\n"
     ]
    }
   ],
   "source": [
    "# Revisemos los intervalos y frecuencias de años_escolaridad\n",
    "\n",
    "print(data[\"años_escolaridad_cat_rd\"].value_counts().sort_index())\n",
    "print(\"-\" * 10)\n",
    "print(data[\"años_escolaridad_cat_f\"].value_counts().sort_index())"
   ]
  },
  {
   "cell_type": "code",
   "execution_count": 27,
   "metadata": {},
   "outputs": [],
   "source": [
    "# Borro las columnas que ya no necesitamos\n",
    "data[\"años_escolaridad\"] = data[\"años_escolaridad_cat_f\"]\n",
    "data = data.drop(columns=[\"años_escolaridad_cat_rd\", \"años_escolaridad_cat_f\"])"
   ]
  },
  {
   "cell_type": "markdown",
   "metadata": {},
   "source": [
    "\n",
    "- No necesariamente siempre hay que rellenar los `NaN` en todas las columnas, porque quizás esa cantidad de `NaN` no es tan representativa para nuestro análisis. Así que podes eliminarlo para todo el dataframe o para ciertas columnas.\n",
    "    ```\n",
    "    # Eliminar filas que contengan NaN\n",
    "    data = data.dropna(subset=['situacion_conyugal', 'sector_educativo', 'lugar_nacimiento', 'afiliacion_salud'])\n",
    "    ```"
   ]
  },
  {
   "cell_type": "code",
   "execution_count": 28,
   "metadata": {},
   "outputs": [
    {
     "name": "stdout",
     "output_type": "stream",
     "text": [
      "Cantidad de registros\n",
      "Antes de aplicar dropna: 14319\n",
      "Después de aplicar dropna: 14310\n"
     ]
    }
   ],
   "source": [
    "print(f\"Cantidad de registros\")\n",
    "print(f\"Antes de aplicar dropna: {data.shape[0]}\")\n",
    "data = data.dropna(subset=['situacion_conyugal', 'sector_educativo', 'lugar_nacimiento', 'afiliacion_salud'])\n",
    "print(f\"Después de aplicar dropna: {data.shape[0]}\")"
   ]
  },
  {
   "cell_type": "markdown",
   "metadata": {},
   "source": [
    "- Después de eliminar filas, podes resetear el índice para que mantenga la secuencia:\n",
    "    ```\n",
    "    data = data.reset_index(drop=True)\n",
    "    ```"
   ]
  },
  {
   "cell_type": "code",
   "execution_count": 29,
   "metadata": {},
   "outputs": [
    {
     "name": "stdout",
     "output_type": "stream",
     "text": [
      "Último indice previo a aplicar el reseteo: [14318]\n",
      "Último indice luego de aplicar el reseteo: [14309]\n"
     ]
    }
   ],
   "source": [
    "print(f\"Último indice previo a aplicar el reseteo: {data.tail(1).index.values}\")\n",
    "data = data.reset_index(drop=True)\n",
    "print(f\"Último indice luego de aplicar el reseteo: {data.tail(1).index.values}\")"
   ]
  },
  {
   "cell_type": "markdown",
   "metadata": {},
   "source": [
    "\n",
    "- Rellenar los datos faltantes para la columna `años_escolaridad`. Primero añadan la categoría `desconocido` y luego hacen un rellenado de los datos faltantes con `desconocido`."
   ]
  },
  {
   "cell_type": "code",
   "execution_count": 30,
   "metadata": {},
   "outputs": [
    {
     "data": {
      "text/plain": [
       "años_escolaridad    category\n",
       "dtype: object"
      ]
     },
     "execution_count": 30,
     "metadata": {},
     "output_type": "execute_result"
    }
   ],
   "source": [
    "data[[\"años_escolaridad\"]] = data[[\"años_escolaridad\"]].astype(\"category\")\n",
    "data[[\"años_escolaridad\"]].dtypes"
   ]
  },
  {
   "cell_type": "code",
   "execution_count": 31,
   "metadata": {},
   "outputs": [
    {
     "name": "stdout",
     "output_type": "stream",
     "text": [
      "Primeros dos registros con valores nulos: \n"
     ]
    },
    {
     "data": {
      "text/plain": [
       "882     NaN\n",
       "1540    NaN\n",
       "Name: años_escolaridad, dtype: category\n",
       "Categories (5, interval[float64, right]): [(-0.001, 7.0] < (7.0, 11.0] < (11.0, 12.0] < (12.0, 16.0] < (16.0, 19.0]]"
      ]
     },
     "execution_count": 31,
     "metadata": {},
     "output_type": "execute_result"
    }
   ],
   "source": [
    "print(\"Primeros dos registros con valores nulos: \")\n",
    "data[data[\"años_escolaridad\"].isna()][\"años_escolaridad\"].head(2)"
   ]
  },
  {
   "cell_type": "code",
   "execution_count": 32,
   "metadata": {},
   "outputs": [],
   "source": [
    "data[\"años_escolaridad\"] = data[\"años_escolaridad\"].cat.add_categories([\"desconocido\"])\n",
    "data[\"años_escolaridad\"] = data[\"años_escolaridad\"].fillna(\"desconocido\")"
   ]
  },
  {
   "cell_type": "code",
   "execution_count": 33,
   "metadata": {},
   "outputs": [
    {
     "name": "stdout",
     "output_type": "stream",
     "text": [
      "Vemos que los mismos registros ahora tienen el valor 'Desconodido': \n"
     ]
    },
    {
     "data": {
      "text/plain": [
       "882     desconocido\n",
       "1540    desconocido\n",
       "Name: años_escolaridad, dtype: category\n",
       "Categories (6, object): [(-0.001, 7.0] < (7.0, 11.0] < (11.0, 12.0] < (12.0, 16.0] < (16.0, 19.0] < 'desconocido']"
      ]
     },
     "execution_count": 33,
     "metadata": {},
     "output_type": "execute_result"
    }
   ],
   "source": [
    "print(\"Vemos que los mismos registros ahora tienen el valor 'Desconodido': \")\n",
    "data[data[\"años_escolaridad\"] == \"desconocido\"][\"años_escolaridad\"].head(2)"
   ]
  },
  {
   "cell_type": "markdown",
   "metadata": {},
   "source": [
    "\n",
    "- Rellenar los datos faltantes para la columna `nivel_max_educativo` con `value=desconocido`"
   ]
  },
  {
   "cell_type": "code",
   "execution_count": 34,
   "metadata": {},
   "outputs": [
    {
     "name": "stdout",
     "output_type": "stream",
     "text": [
      "Primeros dos registros con valores nulos: \n"
     ]
    },
    {
     "data": {
      "text/plain": [
       "7     NaN\n",
       "23    NaN\n",
       "Name: nivel_max_educativo, dtype: object"
      ]
     },
     "execution_count": 34,
     "metadata": {},
     "output_type": "execute_result"
    }
   ],
   "source": [
    "print(\"Primeros dos registros con valores nulos: \")\n",
    "data[data[\"nivel_max_educativo\"].isna()][\"nivel_max_educativo\"].head(2)"
   ]
  },
  {
   "cell_type": "code",
   "execution_count": 35,
   "metadata": {},
   "outputs": [],
   "source": [
    "data[\"nivel_max_educativo\"] = data[\"nivel_max_educativo\"].fillna(\"desconocido\")"
   ]
  },
  {
   "cell_type": "code",
   "execution_count": 36,
   "metadata": {},
   "outputs": [
    {
     "name": "stdout",
     "output_type": "stream",
     "text": [
      "Vemos que los mismos registros ahora tienen el valor 'Desconodido': \n"
     ]
    },
    {
     "data": {
      "text/plain": [
       "7     desconocido\n",
       "23    desconocido\n",
       "Name: nivel_max_educativo, dtype: object"
      ]
     },
     "execution_count": 36,
     "metadata": {},
     "output_type": "execute_result"
    }
   ],
   "source": [
    "print(\"Vemos que los mismos registros ahora tienen el valor 'Desconodido': \")\n",
    "data[data[\"nivel_max_educativo\"] == \"desconocido\"][\"nivel_max_educativo\"].head(2)"
   ]
  },
  {
   "cell_type": "markdown",
   "metadata": {},
   "source": [
    "## Comparación con respuesta esperada"
   ]
  },
  {
   "cell_type": "code",
   "execution_count": 37,
   "metadata": {},
   "outputs": [
    {
     "data": {
      "text/html": [
       "<div>\n",
       "<style scoped>\n",
       "    .dataframe tbody tr th:only-of-type {\n",
       "        vertical-align: middle;\n",
       "    }\n",
       "\n",
       "    .dataframe tbody tr th {\n",
       "        vertical-align: top;\n",
       "    }\n",
       "\n",
       "    .dataframe thead th {\n",
       "        text-align: right;\n",
       "    }\n",
       "</style>\n",
       "<table border=\"1\" class=\"dataframe\">\n",
       "  <thead>\n",
       "    <tr style=\"text-align: right;\">\n",
       "      <th></th>\n",
       "      <th>variable</th>\n",
       "      <th>q_nan</th>\n",
       "      <th>p_nan</th>\n",
       "      <th>q_zeros</th>\n",
       "      <th>p_zeros</th>\n",
       "      <th>unique</th>\n",
       "      <th>type</th>\n",
       "    </tr>\n",
       "  </thead>\n",
       "  <tbody>\n",
       "    <tr>\n",
       "      <th>0</th>\n",
       "      <td>nhogar</td>\n",
       "      <td>0</td>\n",
       "      <td>0.0</td>\n",
       "      <td>0</td>\n",
       "      <td>0.0</td>\n",
       "      <td>7</td>\n",
       "      <td>object</td>\n",
       "    </tr>\n",
       "    <tr>\n",
       "      <th>1</th>\n",
       "      <td>miembro</td>\n",
       "      <td>0</td>\n",
       "      <td>0.0</td>\n",
       "      <td>0</td>\n",
       "      <td>0.0</td>\n",
       "      <td>19</td>\n",
       "      <td>int64</td>\n",
       "    </tr>\n",
       "    <tr>\n",
       "      <th>2</th>\n",
       "      <td>comuna</td>\n",
       "      <td>0</td>\n",
       "      <td>0.0</td>\n",
       "      <td>0</td>\n",
       "      <td>0.0</td>\n",
       "      <td>15</td>\n",
       "      <td>object</td>\n",
       "    </tr>\n",
       "  </tbody>\n",
       "</table>\n",
       "</div>"
      ],
      "text/plain": [
       "  variable  q_nan  p_nan  q_zeros  p_zeros  unique    type\n",
       "0   nhogar      0    0.0        0      0.0       7  object\n",
       "1  miembro      0    0.0        0      0.0      19   int64\n",
       "2   comuna      0    0.0        0      0.0      15  object"
      ]
     },
     "execution_count": 37,
     "metadata": {},
     "output_type": "execute_result"
    }
   ],
   "source": [
    "rta = pd.read_csv(\"tarea_respuesta1.csv\", sep=\",\")\n",
    "rta.head(3)"
   ]
  },
  {
   "cell_type": "code",
   "execution_count": 38,
   "metadata": {},
   "outputs": [],
   "source": [
    "# Código que sirvió para ver qué variables habíamos olvidado de borrar\n",
    "for variable in list(status(data)[\"variable\"]):\n",
    "    if not variable in rta[\"variable\"].values:\n",
    "        print(variable)"
   ]
  },
  {
   "cell_type": "code",
   "execution_count": 39,
   "metadata": {},
   "outputs": [
    {
     "data": {
      "text/html": [
       "<div>\n",
       "<style scoped>\n",
       "    .dataframe tbody tr th:only-of-type {\n",
       "        vertical-align: middle;\n",
       "    }\n",
       "\n",
       "    .dataframe tbody tr th {\n",
       "        vertical-align: top;\n",
       "    }\n",
       "\n",
       "    .dataframe thead tr th {\n",
       "        text-align: left;\n",
       "    }\n",
       "</style>\n",
       "<table border=\"1\" class=\"dataframe\">\n",
       "  <thead>\n",
       "  </thead>\n",
       "  <tbody>\n",
       "  </tbody>\n",
       "</table>\n",
       "</div>"
      ],
      "text/plain": [
       "Empty DataFrame\n",
       "Columns: []\n",
       "Index: []"
      ]
     },
     "execution_count": 39,
     "metadata": {},
     "output_type": "execute_result"
    }
   ],
   "source": [
    "# Comparamos el status de nuestro dataframe con la respuesta esperada\n",
    "status(data).compare(rta)"
   ]
  },
  {
   "cell_type": "code",
   "execution_count": 40,
   "metadata": {},
   "outputs": [
    {
     "name": "stdout",
     "output_type": "stream",
     "text": [
      "¿Llegamos a la respuesta esperada?\n"
     ]
    },
    {
     "data": {
      "text/plain": [
       "True"
      ]
     },
     "execution_count": 40,
     "metadata": {},
     "output_type": "execute_result"
    }
   ],
   "source": [
    "print(\"¿Llegamos a la respuesta esperada?\")\n",
    "status(data).equals(rta)"
   ]
  },
  {
   "cell_type": "markdown",
   "metadata": {},
   "source": [
    "# Consigna 2"
   ]
  },
  {
   "cell_type": "markdown",
   "metadata": {},
   "source": [
    "## One Hot Encoding"
   ]
  },
  {
   "cell_type": "markdown",
   "metadata": {},
   "source": [
    "- Hagan `data_ohe = pd.get_dummies(data)`"
   ]
  },
  {
   "cell_type": "code",
   "execution_count": 41,
   "metadata": {},
   "outputs": [],
   "source": [
    "data_ohe = pd.get_dummies(data)"
   ]
  },
  {
   "cell_type": "markdown",
   "metadata": {},
   "source": [
    "- Guardar `data_ohe` en un archivo pickle como vimos en clase con el nombre `categories_ohe.pickle`."
   ]
  },
  {
   "cell_type": "code",
   "execution_count": 42,
   "metadata": {},
   "outputs": [],
   "source": [
    "with open('categories_ohe.pickle', 'wb') as handle:\n",
    "    pickle.dump(data_ohe.columns, handle, protocol=pickle.HIGHEST_PROTOCOL)"
   ]
  },
  {
   "cell_type": "markdown",
   "metadata": {},
   "source": [
    "- Carguen el dataset `new_data = pd.read_csv(\"new_data.csv\", sep=',')`"
   ]
  },
  {
   "cell_type": "code",
   "execution_count": 43,
   "metadata": {},
   "outputs": [
    {
     "data": {
      "text/html": [
       "<div>\n",
       "<style scoped>\n",
       "    .dataframe tbody tr th:only-of-type {\n",
       "        vertical-align: middle;\n",
       "    }\n",
       "\n",
       "    .dataframe tbody tr th {\n",
       "        vertical-align: top;\n",
       "    }\n",
       "\n",
       "    .dataframe thead th {\n",
       "        text-align: right;\n",
       "    }\n",
       "</style>\n",
       "<table border=\"1\" class=\"dataframe\">\n",
       "  <thead>\n",
       "    <tr style=\"text-align: right;\">\n",
       "      <th></th>\n",
       "      <th>id</th>\n",
       "      <th>nhogar</th>\n",
       "      <th>miembro</th>\n",
       "      <th>comuna</th>\n",
       "      <th>dominio</th>\n",
       "      <th>edad</th>\n",
       "      <th>sexo</th>\n",
       "      <th>parentesco_jefe</th>\n",
       "      <th>situacion_conyugal</th>\n",
       "      <th>num_miembro_padre</th>\n",
       "      <th>...</th>\n",
       "      <th>ingreso_per_capita_familiar</th>\n",
       "      <th>estado_educativo</th>\n",
       "      <th>sector_educativo</th>\n",
       "      <th>nivel_actual</th>\n",
       "      <th>nivel_max_educativo</th>\n",
       "      <th>años_escolaridad</th>\n",
       "      <th>lugar_nacimiento</th>\n",
       "      <th>afiliacion_salud</th>\n",
       "      <th>hijos_nacidos_vivos</th>\n",
       "      <th>cantidad_hijos_nac_vivos</th>\n",
       "    </tr>\n",
       "  </thead>\n",
       "  <tbody>\n",
       "    <tr>\n",
       "      <th>0</th>\n",
       "      <td>21</td>\n",
       "      <td>1</td>\n",
       "      <td>1</td>\n",
       "      <td>3</td>\n",
       "      <td>Resto de la Ciudad</td>\n",
       "      <td>20</td>\n",
       "      <td>Varon</td>\n",
       "      <td>Jefe</td>\n",
       "      <td>Soltero/a</td>\n",
       "      <td>Padre no vive en el hogar</td>\n",
       "      <td>...</td>\n",
       "      <td>4000</td>\n",
       "      <td>Asiste</td>\n",
       "      <td>Privado no religioso</td>\n",
       "      <td>Universitario</td>\n",
       "      <td>Otras escuelas especiales</td>\n",
       "      <td>12</td>\n",
       "      <td>Otra provincia</td>\n",
       "      <td>Solo plan de medicina prepaga por contratación...</td>\n",
       "      <td>NaN</td>\n",
       "      <td>No corresponde</td>\n",
       "    </tr>\n",
       "    <tr>\n",
       "      <th>1</th>\n",
       "      <td>22</td>\n",
       "      <td>1</td>\n",
       "      <td>1</td>\n",
       "      <td>12</td>\n",
       "      <td>Resto de la Ciudad</td>\n",
       "      <td>20</td>\n",
       "      <td>Varon</td>\n",
       "      <td>Jefe</td>\n",
       "      <td>Soltero/a</td>\n",
       "      <td>Padre no vive en el hogar</td>\n",
       "      <td>...</td>\n",
       "      <td>22000</td>\n",
       "      <td>Asiste</td>\n",
       "      <td>Estatal/publico</td>\n",
       "      <td>Universitario</td>\n",
       "      <td>Otras escuelas especiales</td>\n",
       "      <td>12</td>\n",
       "      <td>PBA excepto GBA</td>\n",
       "      <td>Solo obra social</td>\n",
       "      <td>NaN</td>\n",
       "      <td>No corresponde</td>\n",
       "    </tr>\n",
       "    <tr>\n",
       "      <th>2</th>\n",
       "      <td>23</td>\n",
       "      <td>1</td>\n",
       "      <td>1</td>\n",
       "      <td>14</td>\n",
       "      <td>Resto de la Ciudad</td>\n",
       "      <td>20</td>\n",
       "      <td>Varon</td>\n",
       "      <td>Jefe</td>\n",
       "      <td>Soltero/a</td>\n",
       "      <td>Padre no vive en el hogar</td>\n",
       "      <td>...</td>\n",
       "      <td>27500</td>\n",
       "      <td>Asiste</td>\n",
       "      <td>Privado no religioso</td>\n",
       "      <td>Universitario</td>\n",
       "      <td>Otras escuelas especiales</td>\n",
       "      <td>13</td>\n",
       "      <td>CABA</td>\n",
       "      <td>Otros</td>\n",
       "      <td>NaN</td>\n",
       "      <td>No corresponde</td>\n",
       "    </tr>\n",
       "    <tr>\n",
       "      <th>3</th>\n",
       "      <td>23</td>\n",
       "      <td>1</td>\n",
       "      <td>2</td>\n",
       "      <td>14</td>\n",
       "      <td>Resto de la Ciudad</td>\n",
       "      <td>21</td>\n",
       "      <td>Mujer</td>\n",
       "      <td>Otro familiar</td>\n",
       "      <td>Soltero/a</td>\n",
       "      <td>Padre no vive en el hogar</td>\n",
       "      <td>...</td>\n",
       "      <td>27500</td>\n",
       "      <td>Asiste</td>\n",
       "      <td>Privado religioso</td>\n",
       "      <td>Universitario</td>\n",
       "      <td>Otras escuelas especiales</td>\n",
       "      <td>16</td>\n",
       "      <td>CABA</td>\n",
       "      <td>Solo plan de medicina prepaga por contratación...</td>\n",
       "      <td>No</td>\n",
       "      <td>No corresponde</td>\n",
       "    </tr>\n",
       "    <tr>\n",
       "      <th>4</th>\n",
       "      <td>24</td>\n",
       "      <td>1</td>\n",
       "      <td>1</td>\n",
       "      <td>7</td>\n",
       "      <td>Resto de la Ciudad</td>\n",
       "      <td>20</td>\n",
       "      <td>Varon</td>\n",
       "      <td>Jefe</td>\n",
       "      <td>Soltero/a</td>\n",
       "      <td>Padre no vive en el hogar</td>\n",
       "      <td>...</td>\n",
       "      <td>20000</td>\n",
       "      <td>Asiste</td>\n",
       "      <td>Privado no religioso</td>\n",
       "      <td>Universitario</td>\n",
       "      <td>Otras escuelas especiales</td>\n",
       "      <td>14</td>\n",
       "      <td>Otra provincia</td>\n",
       "      <td>Solo plan de medicina prepaga por contratación...</td>\n",
       "      <td>NaN</td>\n",
       "      <td>No corresponde</td>\n",
       "    </tr>\n",
       "  </tbody>\n",
       "</table>\n",
       "<p>5 rows × 31 columns</p>\n",
       "</div>"
      ],
      "text/plain": [
       "   id  nhogar  miembro  comuna             dominio  edad   sexo  \\\n",
       "0  21       1        1       3  Resto de la Ciudad    20  Varon   \n",
       "1  22       1        1      12  Resto de la Ciudad    20  Varon   \n",
       "2  23       1        1      14  Resto de la Ciudad    20  Varon   \n",
       "3  23       1        2      14  Resto de la Ciudad    21  Mujer   \n",
       "4  24       1        1       7  Resto de la Ciudad    20  Varon   \n",
       "\n",
       "  parentesco_jefe situacion_conyugal          num_miembro_padre  ...  \\\n",
       "0            Jefe          Soltero/a  Padre no vive en el hogar  ...   \n",
       "1            Jefe          Soltero/a  Padre no vive en el hogar  ...   \n",
       "2            Jefe          Soltero/a  Padre no vive en el hogar  ...   \n",
       "3   Otro familiar          Soltero/a  Padre no vive en el hogar  ...   \n",
       "4            Jefe          Soltero/a  Padre no vive en el hogar  ...   \n",
       "\n",
       "  ingreso_per_capita_familiar estado_educativo      sector_educativo  \\\n",
       "0                        4000           Asiste  Privado no religioso   \n",
       "1                       22000           Asiste       Estatal/publico   \n",
       "2                       27500           Asiste  Privado no religioso   \n",
       "3                       27500           Asiste     Privado religioso   \n",
       "4                       20000           Asiste  Privado no religioso   \n",
       "\n",
       "    nivel_actual        nivel_max_educativo años_escolaridad  \\\n",
       "0  Universitario  Otras escuelas especiales               12   \n",
       "1  Universitario  Otras escuelas especiales               12   \n",
       "2  Universitario  Otras escuelas especiales               13   \n",
       "3  Universitario  Otras escuelas especiales               16   \n",
       "4  Universitario  Otras escuelas especiales               14   \n",
       "\n",
       "   lugar_nacimiento                                   afiliacion_salud  \\\n",
       "0    Otra provincia  Solo plan de medicina prepaga por contratación...   \n",
       "1   PBA excepto GBA                                   Solo obra social   \n",
       "2              CABA                                              Otros   \n",
       "3              CABA  Solo plan de medicina prepaga por contratación...   \n",
       "4    Otra provincia  Solo plan de medicina prepaga por contratación...   \n",
       "\n",
       "   hijos_nacidos_vivos cantidad_hijos_nac_vivos  \n",
       "0                  NaN           No corresponde  \n",
       "1                  NaN           No corresponde  \n",
       "2                  NaN           No corresponde  \n",
       "3                   No           No corresponde  \n",
       "4                  NaN           No corresponde  \n",
       "\n",
       "[5 rows x 31 columns]"
      ]
     },
     "execution_count": 43,
     "metadata": {},
     "output_type": "execute_result"
    }
   ],
   "source": [
    "new_data = pd.read_csv(\"new_data.csv\", sep=',')\n",
    "new_data"
   ]
  },
  {
   "cell_type": "code",
   "execution_count": 44,
   "metadata": {},
   "outputs": [
    {
     "data": {
      "text/html": [
       "<div>\n",
       "<style scoped>\n",
       "    .dataframe tbody tr th:only-of-type {\n",
       "        vertical-align: middle;\n",
       "    }\n",
       "\n",
       "    .dataframe tbody tr th {\n",
       "        vertical-align: top;\n",
       "    }\n",
       "\n",
       "    .dataframe thead th {\n",
       "        text-align: right;\n",
       "    }\n",
       "</style>\n",
       "<table border=\"1\" class=\"dataframe\">\n",
       "  <thead>\n",
       "    <tr style=\"text-align: right;\">\n",
       "      <th></th>\n",
       "      <th>id</th>\n",
       "      <th>nhogar</th>\n",
       "      <th>miembro</th>\n",
       "      <th>comuna</th>\n",
       "      <th>edad</th>\n",
       "      <th>ingreso_total_lab</th>\n",
       "      <th>ingreso_total_no_lab</th>\n",
       "      <th>ingresos_totales</th>\n",
       "      <th>ingresos_familiares</th>\n",
       "      <th>ingreso_per_capita_familiar</th>\n",
       "      <th>...</th>\n",
       "      <th>nivel_actual_Universitario</th>\n",
       "      <th>nivel_max_educativo_Otras escuelas especiales</th>\n",
       "      <th>lugar_nacimiento_CABA</th>\n",
       "      <th>lugar_nacimiento_Otra provincia</th>\n",
       "      <th>lugar_nacimiento_PBA excepto GBA</th>\n",
       "      <th>afiliacion_salud_Otros</th>\n",
       "      <th>afiliacion_salud_Solo obra social</th>\n",
       "      <th>afiliacion_salud_Solo plan de medicina prepaga por contratación voluntaria</th>\n",
       "      <th>hijos_nacidos_vivos_No</th>\n",
       "      <th>cantidad_hijos_nac_vivos_No corresponde</th>\n",
       "    </tr>\n",
       "  </thead>\n",
       "  <tbody>\n",
       "    <tr>\n",
       "      <th>0</th>\n",
       "      <td>21</td>\n",
       "      <td>1</td>\n",
       "      <td>1</td>\n",
       "      <td>3</td>\n",
       "      <td>20</td>\n",
       "      <td>0</td>\n",
       "      <td>4000</td>\n",
       "      <td>4000</td>\n",
       "      <td>4000</td>\n",
       "      <td>4000</td>\n",
       "      <td>...</td>\n",
       "      <td>1</td>\n",
       "      <td>1</td>\n",
       "      <td>0</td>\n",
       "      <td>1</td>\n",
       "      <td>0</td>\n",
       "      <td>0</td>\n",
       "      <td>0</td>\n",
       "      <td>1</td>\n",
       "      <td>0</td>\n",
       "      <td>1</td>\n",
       "    </tr>\n",
       "    <tr>\n",
       "      <th>1</th>\n",
       "      <td>22</td>\n",
       "      <td>1</td>\n",
       "      <td>1</td>\n",
       "      <td>12</td>\n",
       "      <td>20</td>\n",
       "      <td>0</td>\n",
       "      <td>22000</td>\n",
       "      <td>22000</td>\n",
       "      <td>22000</td>\n",
       "      <td>22000</td>\n",
       "      <td>...</td>\n",
       "      <td>1</td>\n",
       "      <td>1</td>\n",
       "      <td>0</td>\n",
       "      <td>0</td>\n",
       "      <td>1</td>\n",
       "      <td>0</td>\n",
       "      <td>1</td>\n",
       "      <td>0</td>\n",
       "      <td>0</td>\n",
       "      <td>1</td>\n",
       "    </tr>\n",
       "    <tr>\n",
       "      <th>2</th>\n",
       "      <td>23</td>\n",
       "      <td>1</td>\n",
       "      <td>1</td>\n",
       "      <td>14</td>\n",
       "      <td>20</td>\n",
       "      <td>10000</td>\n",
       "      <td>15000</td>\n",
       "      <td>25000</td>\n",
       "      <td>55000</td>\n",
       "      <td>27500</td>\n",
       "      <td>...</td>\n",
       "      <td>1</td>\n",
       "      <td>1</td>\n",
       "      <td>1</td>\n",
       "      <td>0</td>\n",
       "      <td>0</td>\n",
       "      <td>1</td>\n",
       "      <td>0</td>\n",
       "      <td>0</td>\n",
       "      <td>0</td>\n",
       "      <td>1</td>\n",
       "    </tr>\n",
       "    <tr>\n",
       "      <th>3</th>\n",
       "      <td>23</td>\n",
       "      <td>1</td>\n",
       "      <td>2</td>\n",
       "      <td>14</td>\n",
       "      <td>21</td>\n",
       "      <td>30000</td>\n",
       "      <td>0</td>\n",
       "      <td>30000</td>\n",
       "      <td>55000</td>\n",
       "      <td>27500</td>\n",
       "      <td>...</td>\n",
       "      <td>1</td>\n",
       "      <td>1</td>\n",
       "      <td>1</td>\n",
       "      <td>0</td>\n",
       "      <td>0</td>\n",
       "      <td>0</td>\n",
       "      <td>0</td>\n",
       "      <td>1</td>\n",
       "      <td>1</td>\n",
       "      <td>1</td>\n",
       "    </tr>\n",
       "    <tr>\n",
       "      <th>4</th>\n",
       "      <td>24</td>\n",
       "      <td>1</td>\n",
       "      <td>1</td>\n",
       "      <td>7</td>\n",
       "      <td>20</td>\n",
       "      <td>0</td>\n",
       "      <td>20000</td>\n",
       "      <td>20000</td>\n",
       "      <td>20000</td>\n",
       "      <td>20000</td>\n",
       "      <td>...</td>\n",
       "      <td>1</td>\n",
       "      <td>1</td>\n",
       "      <td>0</td>\n",
       "      <td>1</td>\n",
       "      <td>0</td>\n",
       "      <td>0</td>\n",
       "      <td>0</td>\n",
       "      <td>1</td>\n",
       "      <td>0</td>\n",
       "      <td>1</td>\n",
       "    </tr>\n",
       "  </tbody>\n",
       "</table>\n",
       "<p>5 rows × 48 columns</p>\n",
       "</div>"
      ],
      "text/plain": [
       "   id  nhogar  miembro  comuna  edad  ingreso_total_lab  ingreso_total_no_lab  \\\n",
       "0  21       1        1       3    20                  0                  4000   \n",
       "1  22       1        1      12    20                  0                 22000   \n",
       "2  23       1        1      14    20              10000                 15000   \n",
       "3  23       1        2      14    21              30000                     0   \n",
       "4  24       1        1       7    20                  0                 20000   \n",
       "\n",
       "   ingresos_totales  ingresos_familiares  ingreso_per_capita_familiar  ...  \\\n",
       "0              4000                 4000                         4000  ...   \n",
       "1             22000                22000                        22000  ...   \n",
       "2             25000                55000                        27500  ...   \n",
       "3             30000                55000                        27500  ...   \n",
       "4             20000                20000                        20000  ...   \n",
       "\n",
       "   nivel_actual_Universitario  nivel_max_educativo_Otras escuelas especiales  \\\n",
       "0                           1                                              1   \n",
       "1                           1                                              1   \n",
       "2                           1                                              1   \n",
       "3                           1                                              1   \n",
       "4                           1                                              1   \n",
       "\n",
       "   lugar_nacimiento_CABA  lugar_nacimiento_Otra provincia  \\\n",
       "0                      0                                1   \n",
       "1                      0                                0   \n",
       "2                      1                                0   \n",
       "3                      1                                0   \n",
       "4                      0                                1   \n",
       "\n",
       "   lugar_nacimiento_PBA excepto GBA  afiliacion_salud_Otros  \\\n",
       "0                                 0                       0   \n",
       "1                                 1                       0   \n",
       "2                                 0                       1   \n",
       "3                                 0                       0   \n",
       "4                                 0                       0   \n",
       "\n",
       "   afiliacion_salud_Solo obra social  \\\n",
       "0                                  0   \n",
       "1                                  1   \n",
       "2                                  0   \n",
       "3                                  0   \n",
       "4                                  0   \n",
       "\n",
       "   afiliacion_salud_Solo plan de medicina prepaga por contratación voluntaria  \\\n",
       "0                                                  1                            \n",
       "1                                                  0                            \n",
       "2                                                  0                            \n",
       "3                                                  1                            \n",
       "4                                                  1                            \n",
       "\n",
       "   hijos_nacidos_vivos_No  cantidad_hijos_nac_vivos_No corresponde  \n",
       "0                       0                                        1  \n",
       "1                       0                                        1  \n",
       "2                       0                                        1  \n",
       "3                       1                                        1  \n",
       "4                       0                                        1  \n",
       "\n",
       "[5 rows x 48 columns]"
      ]
     },
     "execution_count": 44,
     "metadata": {},
     "output_type": "execute_result"
    }
   ],
   "source": [
    "new_data = pd.get_dummies(new_data, dtype='int64')\n",
    "new_data"
   ]
  },
  {
   "cell_type": "markdown",
   "metadata": {},
   "source": [
    "- A `new_data` hagan un reindex con las columnas que guardaron el archivo pickle y para los valores `NaN` rellenenlos con un `0`."
   ]
  },
  {
   "cell_type": "code",
   "execution_count": 45,
   "metadata": {},
   "outputs": [],
   "source": [
    "with open('categories_ohe.pickle', 'rb') as handle:\n",
    "    one_tr = pickle.load(handle)"
   ]
  },
  {
   "cell_type": "code",
   "execution_count": 46,
   "metadata": {},
   "outputs": [],
   "source": [
    "new_data = new_data.reindex(columns=one_tr)\n",
    "new_data = new_data.fillna(0)"
   ]
  },
  {
   "cell_type": "markdown",
   "metadata": {},
   "source": [
    "## Comparación con respuesta esperada"
   ]
  },
  {
   "cell_type": "code",
   "execution_count": 47,
   "metadata": {},
   "outputs": [
    {
     "data": {
      "text/html": [
       "<div>\n",
       "<style scoped>\n",
       "    .dataframe tbody tr th:only-of-type {\n",
       "        vertical-align: middle;\n",
       "    }\n",
       "\n",
       "    .dataframe tbody tr th {\n",
       "        vertical-align: top;\n",
       "    }\n",
       "\n",
       "    .dataframe thead th {\n",
       "        text-align: right;\n",
       "    }\n",
       "</style>\n",
       "<table border=\"1\" class=\"dataframe\">\n",
       "  <thead>\n",
       "    <tr style=\"text-align: right;\">\n",
       "      <th></th>\n",
       "      <th>miembro</th>\n",
       "      <th>ingresos_totales</th>\n",
       "      <th>nhogar_1</th>\n",
       "      <th>nhogar_2</th>\n",
       "      <th>nhogar_3</th>\n",
       "      <th>nhogar_4</th>\n",
       "      <th>nhogar_5</th>\n",
       "      <th>nhogar_6</th>\n",
       "      <th>nhogar_7</th>\n",
       "      <th>comuna_1</th>\n",
       "      <th>...</th>\n",
       "      <th>cantidad_hijos_nac_vivos_15</th>\n",
       "      <th>cantidad_hijos_nac_vivos_2</th>\n",
       "      <th>cantidad_hijos_nac_vivos_3</th>\n",
       "      <th>cantidad_hijos_nac_vivos_4</th>\n",
       "      <th>cantidad_hijos_nac_vivos_5</th>\n",
       "      <th>cantidad_hijos_nac_vivos_6</th>\n",
       "      <th>cantidad_hijos_nac_vivos_7</th>\n",
       "      <th>cantidad_hijos_nac_vivos_8</th>\n",
       "      <th>cantidad_hijos_nac_vivos_9</th>\n",
       "      <th>cantidad_hijos_nac_vivos_No corresponde</th>\n",
       "    </tr>\n",
       "  </thead>\n",
       "  <tbody>\n",
       "    <tr>\n",
       "      <th>0</th>\n",
       "      <td>1</td>\n",
       "      <td>4000</td>\n",
       "      <td>0.0</td>\n",
       "      <td>0.0</td>\n",
       "      <td>0.0</td>\n",
       "      <td>0.0</td>\n",
       "      <td>0.0</td>\n",
       "      <td>0.0</td>\n",
       "      <td>0.0</td>\n",
       "      <td>0.0</td>\n",
       "      <td>...</td>\n",
       "      <td>0.0</td>\n",
       "      <td>0.0</td>\n",
       "      <td>0.0</td>\n",
       "      <td>0.0</td>\n",
       "      <td>0.0</td>\n",
       "      <td>0.0</td>\n",
       "      <td>0.0</td>\n",
       "      <td>0.0</td>\n",
       "      <td>0.0</td>\n",
       "      <td>1</td>\n",
       "    </tr>\n",
       "    <tr>\n",
       "      <th>1</th>\n",
       "      <td>1</td>\n",
       "      <td>22000</td>\n",
       "      <td>0.0</td>\n",
       "      <td>0.0</td>\n",
       "      <td>0.0</td>\n",
       "      <td>0.0</td>\n",
       "      <td>0.0</td>\n",
       "      <td>0.0</td>\n",
       "      <td>0.0</td>\n",
       "      <td>0.0</td>\n",
       "      <td>...</td>\n",
       "      <td>0.0</td>\n",
       "      <td>0.0</td>\n",
       "      <td>0.0</td>\n",
       "      <td>0.0</td>\n",
       "      <td>0.0</td>\n",
       "      <td>0.0</td>\n",
       "      <td>0.0</td>\n",
       "      <td>0.0</td>\n",
       "      <td>0.0</td>\n",
       "      <td>1</td>\n",
       "    </tr>\n",
       "    <tr>\n",
       "      <th>2</th>\n",
       "      <td>1</td>\n",
       "      <td>25000</td>\n",
       "      <td>0.0</td>\n",
       "      <td>0.0</td>\n",
       "      <td>0.0</td>\n",
       "      <td>0.0</td>\n",
       "      <td>0.0</td>\n",
       "      <td>0.0</td>\n",
       "      <td>0.0</td>\n",
       "      <td>0.0</td>\n",
       "      <td>...</td>\n",
       "      <td>0.0</td>\n",
       "      <td>0.0</td>\n",
       "      <td>0.0</td>\n",
       "      <td>0.0</td>\n",
       "      <td>0.0</td>\n",
       "      <td>0.0</td>\n",
       "      <td>0.0</td>\n",
       "      <td>0.0</td>\n",
       "      <td>0.0</td>\n",
       "      <td>1</td>\n",
       "    </tr>\n",
       "  </tbody>\n",
       "</table>\n",
       "<p>3 rows × 179 columns</p>\n",
       "</div>"
      ],
      "text/plain": [
       "   miembro  ingresos_totales  nhogar_1  nhogar_2  nhogar_3  nhogar_4  \\\n",
       "0        1              4000       0.0       0.0       0.0       0.0   \n",
       "1        1             22000       0.0       0.0       0.0       0.0   \n",
       "2        1             25000       0.0       0.0       0.0       0.0   \n",
       "\n",
       "   nhogar_5  nhogar_6  nhogar_7  comuna_1  ...  cantidad_hijos_nac_vivos_15  \\\n",
       "0       0.0       0.0       0.0       0.0  ...                          0.0   \n",
       "1       0.0       0.0       0.0       0.0  ...                          0.0   \n",
       "2       0.0       0.0       0.0       0.0  ...                          0.0   \n",
       "\n",
       "   cantidad_hijos_nac_vivos_2  cantidad_hijos_nac_vivos_3  \\\n",
       "0                         0.0                         0.0   \n",
       "1                         0.0                         0.0   \n",
       "2                         0.0                         0.0   \n",
       "\n",
       "   cantidad_hijos_nac_vivos_4  cantidad_hijos_nac_vivos_5  \\\n",
       "0                         0.0                         0.0   \n",
       "1                         0.0                         0.0   \n",
       "2                         0.0                         0.0   \n",
       "\n",
       "   cantidad_hijos_nac_vivos_6  cantidad_hijos_nac_vivos_7  \\\n",
       "0                         0.0                         0.0   \n",
       "1                         0.0                         0.0   \n",
       "2                         0.0                         0.0   \n",
       "\n",
       "   cantidad_hijos_nac_vivos_8  cantidad_hijos_nac_vivos_9  \\\n",
       "0                         0.0                         0.0   \n",
       "1                         0.0                         0.0   \n",
       "2                         0.0                         0.0   \n",
       "\n",
       "   cantidad_hijos_nac_vivos_No corresponde  \n",
       "0                                        1  \n",
       "1                                        1  \n",
       "2                                        1  \n",
       "\n",
       "[3 rows x 179 columns]"
      ]
     },
     "execution_count": 47,
     "metadata": {},
     "output_type": "execute_result"
    }
   ],
   "source": [
    "rta2 = pd.read_csv(\"tarea_respuesta2.csv\", sep=\",\")\n",
    "rta2.head(3)"
   ]
  },
  {
   "cell_type": "code",
   "execution_count": 48,
   "metadata": {},
   "outputs": [],
   "source": [
    "# Código que sirvió para ver qué variables habíamos olvidado de borrar\n",
    "for col in new_data.columns:\n",
    "    if not col in rta2.columns:\n",
    "        print(col)"
   ]
  },
  {
   "cell_type": "code",
   "execution_count": 49,
   "metadata": {},
   "outputs": [
    {
     "data": {
      "text/html": [
       "<div>\n",
       "<style scoped>\n",
       "    .dataframe tbody tr th:only-of-type {\n",
       "        vertical-align: middle;\n",
       "    }\n",
       "\n",
       "    .dataframe tbody tr th {\n",
       "        vertical-align: top;\n",
       "    }\n",
       "\n",
       "    .dataframe thead tr th {\n",
       "        text-align: left;\n",
       "    }\n",
       "</style>\n",
       "<table border=\"1\" class=\"dataframe\">\n",
       "  <thead>\n",
       "  </thead>\n",
       "  <tbody>\n",
       "  </tbody>\n",
       "</table>\n",
       "</div>"
      ],
      "text/plain": [
       "Empty DataFrame\n",
       "Columns: []\n",
       "Index: []"
      ]
     },
     "execution_count": 49,
     "metadata": {},
     "output_type": "execute_result"
    }
   ],
   "source": [
    "# Comparamos el status de nuestro dataframe con la respuesta esperada\n",
    "new_data.compare(rta2)"
   ]
  },
  {
   "cell_type": "code",
   "execution_count": 50,
   "metadata": {},
   "outputs": [
    {
     "name": "stdout",
     "output_type": "stream",
     "text": [
      "¿Llegamos a la respuesta esperada?\n"
     ]
    },
    {
     "data": {
      "text/plain": [
       "True"
      ]
     },
     "execution_count": 50,
     "metadata": {},
     "output_type": "execute_result"
    }
   ],
   "source": [
    "print(\"¿Llegamos a la respuesta esperada?\")\n",
    "new_data.equals(rta2)"
   ]
  }
 ],
 "metadata": {
  "kernelspec": {
   "display_name": ".venv",
   "language": "python",
   "name": "python3"
  },
  "language_info": {
   "codemirror_mode": {
    "name": "ipython",
    "version": 3
   },
   "file_extension": ".py",
   "mimetype": "text/x-python",
   "name": "python",
   "nbconvert_exporter": "python",
   "pygments_lexer": "ipython3",
   "version": "3.11.9"
  }
 },
 "nbformat": 4,
 "nbformat_minor": 2
}
