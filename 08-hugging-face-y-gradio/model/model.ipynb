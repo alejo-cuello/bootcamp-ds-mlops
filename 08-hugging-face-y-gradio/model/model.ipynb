{
 "cells": [
  {
   "cell_type": "markdown",
   "id": "2cb776e9",
   "metadata": {},
   "source": [
    "# Actividad N° 08: Hugging Face y Gradio"
   ]
  },
  {
   "cell_type": "markdown",
   "id": "1cc7c477",
   "metadata": {},
   "source": [
    "## Integrantes"
   ]
  },
  {
   "cell_type": "markdown",
   "id": "fa89557c",
   "metadata": {},
   "source": [
    "**Grupo N° 03**\n",
    "\n",
    "- Adriana Villalobos\n",
    "- Gustavo Ledesma\n",
    "- Alejo Cuello"
   ]
  },
  {
   "cell_type": "markdown",
   "id": "952d5477",
   "metadata": {},
   "source": [
    "## Descripción de la actividad"
   ]
  },
  {
   "cell_type": "markdown",
   "id": "7f7d773d",
   "metadata": {},
   "source": [
    "Trabajamos sobre el conjunto de datos *test.csv* que trata sobre satisfacción de los pasajeros de una aerolínea. El objetivo de la actividad es crear un modelo para poder utilizarlo desde un Hugging Face Space, donde utilizaremos Gradio para crear la interfaz de usuario."
   ]
  },
  {
   "cell_type": "markdown",
   "id": "76f7c494",
   "metadata": {},
   "source": [
    "## Importación de librerías y datos"
   ]
  },
  {
   "cell_type": "code",
   "execution_count": 1,
   "id": "63222969",
   "metadata": {},
   "outputs": [],
   "source": [
    "import numpy as np\n",
    "import pandas as pd\n",
    "import seaborn as sns\n",
    "import matplotlib.pyplot as plt\n",
    "from funpymodeling.exploratory import status"
   ]
  },
  {
   "cell_type": "markdown",
   "id": "f3217d9f",
   "metadata": {},
   "source": [
    "## 1) Preparación de datos"
   ]
  },
  {
   "cell_type": "markdown",
   "id": "4e896835",
   "metadata": {},
   "source": [
    "- Cargar el dataset:\n",
    "    ```\n",
    "    all_data = pd.read_csv(\"test.csv\", sep=',', index_col=0)\n",
    "    ```"
   ]
  },
  {
   "cell_type": "markdown",
   "id": "8fb022cb",
   "metadata": {},
   "source": [
    "- Este dataset tiene muchas columnas, así que solo nos vamos a quedar con algunas:\n",
    "    ```\n",
    "    data = all_data[['Age', 'Class', 'Inflight wifi service', 'Ease of Online booking', 'Seat comfort', 'Checkin service', 'satisfaction']].copy()\n",
    "    ```"
   ]
  },
  {
   "cell_type": "markdown",
   "id": "484fc71d",
   "metadata": {},
   "source": [
    "- Cambiar el nombre de las columnas para evitar espacios en blanco y que sean más concisas.\n",
    "    ```\n",
    "    data.rename(\n",
    "        columns = {\n",
    "            'Inflight wifi service':'Wifi',\n",
    "            'Ease of Online booking':'Booking',\n",
    "            'Seat comfort':'Seat',\n",
    "            'Checkin service':'Checkin',\n",
    "            }, \n",
    "    inplace = True)\n",
    "    ```"
   ]
  },
  {
   "cell_type": "markdown",
   "id": "b0636f3f",
   "metadata": {},
   "source": [
    "- Cambiar los valores de la columna `satisfaction`:\n",
    "    ```\n",
    "    class_map = {'neutral or dissatisfied':0, 'satisfied':1}\n",
    "    data['satisfaction'] = data['satisfaction'].map(class_map)\n",
    "    ```"
   ]
  },
  {
   "cell_type": "markdown",
   "id": "e6551480",
   "metadata": {},
   "source": [
    "- Hacer un get dummies."
   ]
  },
  {
   "cell_type": "markdown",
   "id": "566dd727",
   "metadata": {},
   "source": [
    "## 2) Clasificación"
   ]
  },
  {
   "cell_type": "markdown",
   "id": "d35abc12",
   "metadata": {},
   "source": [
    "- Su variable target o de interés a clasificar es `satisfaction`."
   ]
  },
  {
   "cell_type": "markdown",
   "id": "5f829046",
   "metadata": {},
   "source": [
    "- Recuerden comentar y NO utilizar la siguiente celda:\n",
    "    ```\n",
    "    data_x = data_x.values\n",
    "    data_y = data_y.values\n",
    "    ``` "
   ]
  },
  {
   "cell_type": "markdown",
   "id": "76ee8ad7",
   "metadata": {},
   "source": [
    "- Utilicen el 30% del dataset para test."
   ]
  },
  {
   "cell_type": "markdown",
   "id": "7908e378",
   "metadata": {},
   "source": [
    "- Para el Random Forest consideren los parámetros `n_estimators = 5000` y `random_state = 19`"
   ]
  },
  {
   "cell_type": "markdown",
   "id": "c260370c",
   "metadata": {},
   "source": [
    "- **IMPORTANTE** El punto g) Análisis de los distintos puntos de corte, DEMORA MUCHO TIEMPO, aproximadamente > 2.000 min. **Así que si desean, lo pueden descartar.**"
   ]
  },
  {
   "cell_type": "markdown",
   "id": "4920c501",
   "metadata": {},
   "source": [
    "- Guarden el modelo con el nombre `rf.pkl`.\n",
    "  **NOTA:** Este archivo es muy pero muy pesado, así que tengan cuidado en caso de que quieran subir el modelo a un repositorio a Github. **Por eso en este ejercicio NO les pedimos cargar el modelo a un repositorio.**"
   ]
  },
  {
   "cell_type": "markdown",
   "id": "c5ea4e43",
   "metadata": {},
   "source": [
    "- Guarden el nombre de las columnas\n",
    "  ```\n",
    "    import pickle\n",
    "\n",
    "    # Guardamos las columnas x (sin Satisfaction)\n",
    "    with open('categories_ohe.pickle', 'wb') as handle:\n",
    "        pickle.dump(data_x.columns, handle, protocol=pickle.HIGHEST_PROTOCOL)\n",
    "  ```"
   ]
  }
 ],
 "metadata": {
  "kernelspec": {
   "display_name": ".venv",
   "language": "python",
   "name": "python3"
  },
  "language_info": {
   "codemirror_mode": {
    "name": "ipython",
    "version": 3
   },
   "file_extension": ".py",
   "mimetype": "text/x-python",
   "name": "python",
   "nbconvert_exporter": "python",
   "pygments_lexer": "ipython3",
   "version": "3.11.9"
  }
 },
 "nbformat": 4,
 "nbformat_minor": 5
}
