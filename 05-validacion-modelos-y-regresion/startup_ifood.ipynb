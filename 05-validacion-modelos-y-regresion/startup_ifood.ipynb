{
 "cells": [
  {
   "cell_type": "markdown",
   "id": "0ecb9c7e",
   "metadata": {},
   "source": [
    "# Actividad N° 05: iFood"
   ]
  },
  {
   "cell_type": "markdown",
   "id": "b8ac3356",
   "metadata": {},
   "source": [
    "## Integrantes"
   ]
  },
  {
   "cell_type": "markdown",
   "id": "016828a9",
   "metadata": {},
   "source": [
    "**Grupo N° 03**\n",
    "\n",
    "- Adriana Villalobos\n",
    "- Gustavo Ledesma\n",
    "- Alejo Cuello"
   ]
  },
  {
   "cell_type": "markdown",
   "id": "b2ffdae5",
   "metadata": {},
   "source": [
    "## Descripción de la actividad"
   ]
  },
  {
   "cell_type": "markdown",
   "id": "f46d0355",
   "metadata": {},
   "source": [
    "Trabajamos sobre el conjunto de datos *marketing-campaign.csv* de iFood. El objetivo de la actividad es validar los modelos de clasificación y regresión utilizados para predecir distintas variables."
   ]
  },
  {
   "cell_type": "markdown",
   "id": "06cab53d",
   "metadata": {},
   "source": [
    "# Consigna"
   ]
  },
  {
   "cell_type": "markdown",
   "id": "21eb25f5",
   "metadata": {},
   "source": [
    "- Creen un modelo de clasificación utilizando Random Forest para la columna `Response`.\n",
    "- Guarden el modelo de clasificación Random forest como `rfc.pkl`.\n",
    "- Creen un modelo con regresión lineal y con Random Forest + GridsearchCV para predecir la columna `Income`.\n",
    "- Guardar ambos modelos de regresion en pkl `lr.pkl` y `rfr.pkl`\n",
    "- Cargar proyecto en Github / Gitlab, usen git y git-lfs para los `.csv` y `.pkl`."
   ]
  },
  {
   "cell_type": "markdown",
   "id": "d50c8ce4",
   "metadata": {},
   "source": [
    "## Consideraciones"
   ]
  },
  {
   "cell_type": "markdown",
   "id": "c88cf2e2",
   "metadata": {},
   "source": [
    "- Repliquen este notebook para la resolución del ejercicio.\n",
    "- Consideren las etapas: 1) Cargamos los datos, 2) Preparación de la data, 3) Clasificación, 4) Regresión y 5) Guardar un modelo.\n",
    "\n",
    "**Podemos decidir:**\n",
    "- Cómo preparar y acondicionar el dataset.\n",
    "- Pueden agregar y eliminar columnas del dataset.\n",
    "- Decidir parámetros para ajustar en los modelos de clasificación y regresión."
   ]
  },
  {
   "cell_type": "markdown",
   "id": "b87ed111",
   "metadata": {},
   "source": [
    "# Código"
   ]
  },
  {
   "cell_type": "markdown",
   "id": "40eb62bb",
   "metadata": {},
   "source": [
    "#### CARGA DE DATOS"
   ]
  },
  {
   "cell_type": "code",
   "execution_count": 1,
   "id": "5e093b70",
   "metadata": {},
   "outputs": [],
   "source": [
    "import pandas as pd\n",
    "import numpy as np\n",
    "import pickle\n",
    "\n",
    "from funpymodeling.exploratory import status\n",
    "from sklearn.model_selection import train_test_split, GridSearchCV\n",
    "from sklearn.linear_model import LinearRegression\n",
    "from sklearn.ensemble import RandomForestRegressor "
   ]
  },
  {
   "cell_type": "code",
   "execution_count": 2,
   "id": "597084a8",
   "metadata": {},
   "outputs": [
    {
     "data": {
      "text/html": [
       "<div>\n",
       "<style scoped>\n",
       "    .dataframe tbody tr th:only-of-type {\n",
       "        vertical-align: middle;\n",
       "    }\n",
       "\n",
       "    .dataframe tbody tr th {\n",
       "        vertical-align: top;\n",
       "    }\n",
       "\n",
       "    .dataframe thead th {\n",
       "        text-align: right;\n",
       "    }\n",
       "</style>\n",
       "<table border=\"1\" class=\"dataframe\">\n",
       "  <thead>\n",
       "    <tr style=\"text-align: right;\">\n",
       "      <th></th>\n",
       "      <th>Year_Birth</th>\n",
       "      <th>Education</th>\n",
       "      <th>Marital_Status</th>\n",
       "      <th>Income</th>\n",
       "      <th>Kidhome</th>\n",
       "      <th>Teenhome</th>\n",
       "      <th>Dt_Customer</th>\n",
       "      <th>Recency</th>\n",
       "      <th>MntWines</th>\n",
       "      <th>MntFruits</th>\n",
       "      <th>...</th>\n",
       "      <th>NumWebVisitsMonth</th>\n",
       "      <th>AcceptedCmp3</th>\n",
       "      <th>AcceptedCmp4</th>\n",
       "      <th>AcceptedCmp5</th>\n",
       "      <th>AcceptedCmp1</th>\n",
       "      <th>AcceptedCmp2</th>\n",
       "      <th>Complain</th>\n",
       "      <th>Z_CostContact</th>\n",
       "      <th>Z_Revenue</th>\n",
       "      <th>Response</th>\n",
       "    </tr>\n",
       "    <tr>\n",
       "      <th>ID</th>\n",
       "      <th></th>\n",
       "      <th></th>\n",
       "      <th></th>\n",
       "      <th></th>\n",
       "      <th></th>\n",
       "      <th></th>\n",
       "      <th></th>\n",
       "      <th></th>\n",
       "      <th></th>\n",
       "      <th></th>\n",
       "      <th></th>\n",
       "      <th></th>\n",
       "      <th></th>\n",
       "      <th></th>\n",
       "      <th></th>\n",
       "      <th></th>\n",
       "      <th></th>\n",
       "      <th></th>\n",
       "      <th></th>\n",
       "      <th></th>\n",
       "      <th></th>\n",
       "    </tr>\n",
       "  </thead>\n",
       "  <tbody>\n",
       "    <tr>\n",
       "      <th>5524</th>\n",
       "      <td>1957</td>\n",
       "      <td>Graduation</td>\n",
       "      <td>Single</td>\n",
       "      <td>58138.0</td>\n",
       "      <td>0</td>\n",
       "      <td>0</td>\n",
       "      <td>2012-09-04</td>\n",
       "      <td>58</td>\n",
       "      <td>635</td>\n",
       "      <td>88</td>\n",
       "      <td>...</td>\n",
       "      <td>7</td>\n",
       "      <td>0</td>\n",
       "      <td>0</td>\n",
       "      <td>0</td>\n",
       "      <td>0</td>\n",
       "      <td>0</td>\n",
       "      <td>0</td>\n",
       "      <td>3</td>\n",
       "      <td>11</td>\n",
       "      <td>1</td>\n",
       "    </tr>\n",
       "    <tr>\n",
       "      <th>2174</th>\n",
       "      <td>1954</td>\n",
       "      <td>Graduation</td>\n",
       "      <td>Single</td>\n",
       "      <td>46344.0</td>\n",
       "      <td>1</td>\n",
       "      <td>1</td>\n",
       "      <td>2014-03-08</td>\n",
       "      <td>38</td>\n",
       "      <td>11</td>\n",
       "      <td>1</td>\n",
       "      <td>...</td>\n",
       "      <td>5</td>\n",
       "      <td>0</td>\n",
       "      <td>0</td>\n",
       "      <td>0</td>\n",
       "      <td>0</td>\n",
       "      <td>0</td>\n",
       "      <td>0</td>\n",
       "      <td>3</td>\n",
       "      <td>11</td>\n",
       "      <td>0</td>\n",
       "    </tr>\n",
       "    <tr>\n",
       "      <th>4141</th>\n",
       "      <td>1965</td>\n",
       "      <td>Graduation</td>\n",
       "      <td>Together</td>\n",
       "      <td>71613.0</td>\n",
       "      <td>0</td>\n",
       "      <td>0</td>\n",
       "      <td>2013-08-21</td>\n",
       "      <td>26</td>\n",
       "      <td>426</td>\n",
       "      <td>49</td>\n",
       "      <td>...</td>\n",
       "      <td>4</td>\n",
       "      <td>0</td>\n",
       "      <td>0</td>\n",
       "      <td>0</td>\n",
       "      <td>0</td>\n",
       "      <td>0</td>\n",
       "      <td>0</td>\n",
       "      <td>3</td>\n",
       "      <td>11</td>\n",
       "      <td>0</td>\n",
       "    </tr>\n",
       "    <tr>\n",
       "      <th>6182</th>\n",
       "      <td>1984</td>\n",
       "      <td>Graduation</td>\n",
       "      <td>Together</td>\n",
       "      <td>26646.0</td>\n",
       "      <td>1</td>\n",
       "      <td>0</td>\n",
       "      <td>2014-02-10</td>\n",
       "      <td>26</td>\n",
       "      <td>11</td>\n",
       "      <td>4</td>\n",
       "      <td>...</td>\n",
       "      <td>6</td>\n",
       "      <td>0</td>\n",
       "      <td>0</td>\n",
       "      <td>0</td>\n",
       "      <td>0</td>\n",
       "      <td>0</td>\n",
       "      <td>0</td>\n",
       "      <td>3</td>\n",
       "      <td>11</td>\n",
       "      <td>0</td>\n",
       "    </tr>\n",
       "    <tr>\n",
       "      <th>5324</th>\n",
       "      <td>1981</td>\n",
       "      <td>PhD</td>\n",
       "      <td>Married</td>\n",
       "      <td>58293.0</td>\n",
       "      <td>1</td>\n",
       "      <td>0</td>\n",
       "      <td>2014-01-19</td>\n",
       "      <td>94</td>\n",
       "      <td>173</td>\n",
       "      <td>43</td>\n",
       "      <td>...</td>\n",
       "      <td>5</td>\n",
       "      <td>0</td>\n",
       "      <td>0</td>\n",
       "      <td>0</td>\n",
       "      <td>0</td>\n",
       "      <td>0</td>\n",
       "      <td>0</td>\n",
       "      <td>3</td>\n",
       "      <td>11</td>\n",
       "      <td>0</td>\n",
       "    </tr>\n",
       "  </tbody>\n",
       "</table>\n",
       "<p>5 rows × 28 columns</p>\n",
       "</div>"
      ],
      "text/plain": [
       "      Year_Birth   Education Marital_Status   Income  Kidhome  Teenhome  \\\n",
       "ID                                                                        \n",
       "5524        1957  Graduation         Single  58138.0        0         0   \n",
       "2174        1954  Graduation         Single  46344.0        1         1   \n",
       "4141        1965  Graduation       Together  71613.0        0         0   \n",
       "6182        1984  Graduation       Together  26646.0        1         0   \n",
       "5324        1981         PhD        Married  58293.0        1         0   \n",
       "\n",
       "     Dt_Customer  Recency  MntWines  MntFruits  ...  NumWebVisitsMonth  \\\n",
       "ID                                              ...                      \n",
       "5524  2012-09-04       58       635         88  ...                  7   \n",
       "2174  2014-03-08       38        11          1  ...                  5   \n",
       "4141  2013-08-21       26       426         49  ...                  4   \n",
       "6182  2014-02-10       26        11          4  ...                  6   \n",
       "5324  2014-01-19       94       173         43  ...                  5   \n",
       "\n",
       "      AcceptedCmp3  AcceptedCmp4  AcceptedCmp5  AcceptedCmp1  AcceptedCmp2  \\\n",
       "ID                                                                           \n",
       "5524             0             0             0             0             0   \n",
       "2174             0             0             0             0             0   \n",
       "4141             0             0             0             0             0   \n",
       "6182             0             0             0             0             0   \n",
       "5324             0             0             0             0             0   \n",
       "\n",
       "      Complain  Z_CostContact  Z_Revenue  Response  \n",
       "ID                                                  \n",
       "5524         0              3         11         1  \n",
       "2174         0              3         11         0  \n",
       "4141         0              3         11         0  \n",
       "6182         0              3         11         0  \n",
       "5324         0              3         11         0  \n",
       "\n",
       "[5 rows x 28 columns]"
      ]
     },
     "execution_count": 2,
     "metadata": {},
     "output_type": "execute_result"
    }
   ],
   "source": [
    "data = pd.read_csv(\"marketing_campaign.csv\", sep=';', index_col=0)\n",
    "data.head(5)"
   ]
  },
  {
   "cell_type": "code",
   "execution_count": 3,
   "id": "9c25bb09",
   "metadata": {},
   "outputs": [
    {
     "data": {
      "text/html": [
       "<div>\n",
       "<style scoped>\n",
       "    .dataframe tbody tr th:only-of-type {\n",
       "        vertical-align: middle;\n",
       "    }\n",
       "\n",
       "    .dataframe tbody tr th {\n",
       "        vertical-align: top;\n",
       "    }\n",
       "\n",
       "    .dataframe thead th {\n",
       "        text-align: right;\n",
       "    }\n",
       "</style>\n",
       "<table border=\"1\" class=\"dataframe\">\n",
       "  <thead>\n",
       "    <tr style=\"text-align: right;\">\n",
       "      <th></th>\n",
       "      <th>variable</th>\n",
       "      <th>q_nan</th>\n",
       "      <th>p_nan</th>\n",
       "      <th>q_zeros</th>\n",
       "      <th>p_zeros</th>\n",
       "      <th>unique</th>\n",
       "      <th>type</th>\n",
       "    </tr>\n",
       "  </thead>\n",
       "  <tbody>\n",
       "    <tr>\n",
       "      <th>0</th>\n",
       "      <td>Year_Birth</td>\n",
       "      <td>0</td>\n",
       "      <td>0.000000</td>\n",
       "      <td>0</td>\n",
       "      <td>0.000000</td>\n",
       "      <td>59</td>\n",
       "      <td>int64</td>\n",
       "    </tr>\n",
       "    <tr>\n",
       "      <th>1</th>\n",
       "      <td>Education</td>\n",
       "      <td>0</td>\n",
       "      <td>0.000000</td>\n",
       "      <td>0</td>\n",
       "      <td>0.000000</td>\n",
       "      <td>5</td>\n",
       "      <td>object</td>\n",
       "    </tr>\n",
       "    <tr>\n",
       "      <th>2</th>\n",
       "      <td>Marital_Status</td>\n",
       "      <td>0</td>\n",
       "      <td>0.000000</td>\n",
       "      <td>0</td>\n",
       "      <td>0.000000</td>\n",
       "      <td>8</td>\n",
       "      <td>object</td>\n",
       "    </tr>\n",
       "    <tr>\n",
       "      <th>3</th>\n",
       "      <td>Income</td>\n",
       "      <td>24</td>\n",
       "      <td>0.010714</td>\n",
       "      <td>0</td>\n",
       "      <td>0.000000</td>\n",
       "      <td>1974</td>\n",
       "      <td>float64</td>\n",
       "    </tr>\n",
       "    <tr>\n",
       "      <th>4</th>\n",
       "      <td>Kidhome</td>\n",
       "      <td>0</td>\n",
       "      <td>0.000000</td>\n",
       "      <td>1293</td>\n",
       "      <td>0.577232</td>\n",
       "      <td>3</td>\n",
       "      <td>int64</td>\n",
       "    </tr>\n",
       "    <tr>\n",
       "      <th>5</th>\n",
       "      <td>Teenhome</td>\n",
       "      <td>0</td>\n",
       "      <td>0.000000</td>\n",
       "      <td>1158</td>\n",
       "      <td>0.516964</td>\n",
       "      <td>3</td>\n",
       "      <td>int64</td>\n",
       "    </tr>\n",
       "    <tr>\n",
       "      <th>6</th>\n",
       "      <td>Dt_Customer</td>\n",
       "      <td>0</td>\n",
       "      <td>0.000000</td>\n",
       "      <td>0</td>\n",
       "      <td>0.000000</td>\n",
       "      <td>663</td>\n",
       "      <td>object</td>\n",
       "    </tr>\n",
       "    <tr>\n",
       "      <th>7</th>\n",
       "      <td>Recency</td>\n",
       "      <td>0</td>\n",
       "      <td>0.000000</td>\n",
       "      <td>28</td>\n",
       "      <td>0.012500</td>\n",
       "      <td>100</td>\n",
       "      <td>int64</td>\n",
       "    </tr>\n",
       "    <tr>\n",
       "      <th>8</th>\n",
       "      <td>MntWines</td>\n",
       "      <td>0</td>\n",
       "      <td>0.000000</td>\n",
       "      <td>13</td>\n",
       "      <td>0.005804</td>\n",
       "      <td>776</td>\n",
       "      <td>int64</td>\n",
       "    </tr>\n",
       "    <tr>\n",
       "      <th>9</th>\n",
       "      <td>MntFruits</td>\n",
       "      <td>0</td>\n",
       "      <td>0.000000</td>\n",
       "      <td>400</td>\n",
       "      <td>0.178571</td>\n",
       "      <td>158</td>\n",
       "      <td>int64</td>\n",
       "    </tr>\n",
       "    <tr>\n",
       "      <th>10</th>\n",
       "      <td>MntMeatProducts</td>\n",
       "      <td>0</td>\n",
       "      <td>0.000000</td>\n",
       "      <td>1</td>\n",
       "      <td>0.000446</td>\n",
       "      <td>558</td>\n",
       "      <td>int64</td>\n",
       "    </tr>\n",
       "    <tr>\n",
       "      <th>11</th>\n",
       "      <td>MntFishProducts</td>\n",
       "      <td>0</td>\n",
       "      <td>0.000000</td>\n",
       "      <td>384</td>\n",
       "      <td>0.171429</td>\n",
       "      <td>182</td>\n",
       "      <td>int64</td>\n",
       "    </tr>\n",
       "    <tr>\n",
       "      <th>12</th>\n",
       "      <td>MntSweetProducts</td>\n",
       "      <td>0</td>\n",
       "      <td>0.000000</td>\n",
       "      <td>419</td>\n",
       "      <td>0.187054</td>\n",
       "      <td>177</td>\n",
       "      <td>int64</td>\n",
       "    </tr>\n",
       "    <tr>\n",
       "      <th>13</th>\n",
       "      <td>MntGoldProds</td>\n",
       "      <td>0</td>\n",
       "      <td>0.000000</td>\n",
       "      <td>61</td>\n",
       "      <td>0.027232</td>\n",
       "      <td>213</td>\n",
       "      <td>int64</td>\n",
       "    </tr>\n",
       "    <tr>\n",
       "      <th>14</th>\n",
       "      <td>NumDealsPurchases</td>\n",
       "      <td>0</td>\n",
       "      <td>0.000000</td>\n",
       "      <td>46</td>\n",
       "      <td>0.020536</td>\n",
       "      <td>15</td>\n",
       "      <td>int64</td>\n",
       "    </tr>\n",
       "    <tr>\n",
       "      <th>15</th>\n",
       "      <td>NumWebPurchases</td>\n",
       "      <td>0</td>\n",
       "      <td>0.000000</td>\n",
       "      <td>49</td>\n",
       "      <td>0.021875</td>\n",
       "      <td>15</td>\n",
       "      <td>int64</td>\n",
       "    </tr>\n",
       "    <tr>\n",
       "      <th>16</th>\n",
       "      <td>NumCatalogPurchases</td>\n",
       "      <td>0</td>\n",
       "      <td>0.000000</td>\n",
       "      <td>586</td>\n",
       "      <td>0.261607</td>\n",
       "      <td>14</td>\n",
       "      <td>int64</td>\n",
       "    </tr>\n",
       "    <tr>\n",
       "      <th>17</th>\n",
       "      <td>NumStorePurchases</td>\n",
       "      <td>0</td>\n",
       "      <td>0.000000</td>\n",
       "      <td>15</td>\n",
       "      <td>0.006696</td>\n",
       "      <td>14</td>\n",
       "      <td>int64</td>\n",
       "    </tr>\n",
       "    <tr>\n",
       "      <th>18</th>\n",
       "      <td>NumWebVisitsMonth</td>\n",
       "      <td>0</td>\n",
       "      <td>0.000000</td>\n",
       "      <td>11</td>\n",
       "      <td>0.004911</td>\n",
       "      <td>16</td>\n",
       "      <td>int64</td>\n",
       "    </tr>\n",
       "    <tr>\n",
       "      <th>19</th>\n",
       "      <td>AcceptedCmp3</td>\n",
       "      <td>0</td>\n",
       "      <td>0.000000</td>\n",
       "      <td>2077</td>\n",
       "      <td>0.927232</td>\n",
       "      <td>2</td>\n",
       "      <td>int64</td>\n",
       "    </tr>\n",
       "    <tr>\n",
       "      <th>20</th>\n",
       "      <td>AcceptedCmp4</td>\n",
       "      <td>0</td>\n",
       "      <td>0.000000</td>\n",
       "      <td>2073</td>\n",
       "      <td>0.925446</td>\n",
       "      <td>2</td>\n",
       "      <td>int64</td>\n",
       "    </tr>\n",
       "    <tr>\n",
       "      <th>21</th>\n",
       "      <td>AcceptedCmp5</td>\n",
       "      <td>0</td>\n",
       "      <td>0.000000</td>\n",
       "      <td>2077</td>\n",
       "      <td>0.927232</td>\n",
       "      <td>2</td>\n",
       "      <td>int64</td>\n",
       "    </tr>\n",
       "    <tr>\n",
       "      <th>22</th>\n",
       "      <td>AcceptedCmp1</td>\n",
       "      <td>0</td>\n",
       "      <td>0.000000</td>\n",
       "      <td>2096</td>\n",
       "      <td>0.935714</td>\n",
       "      <td>2</td>\n",
       "      <td>int64</td>\n",
       "    </tr>\n",
       "    <tr>\n",
       "      <th>23</th>\n",
       "      <td>AcceptedCmp2</td>\n",
       "      <td>0</td>\n",
       "      <td>0.000000</td>\n",
       "      <td>2210</td>\n",
       "      <td>0.986607</td>\n",
       "      <td>2</td>\n",
       "      <td>int64</td>\n",
       "    </tr>\n",
       "    <tr>\n",
       "      <th>24</th>\n",
       "      <td>Complain</td>\n",
       "      <td>0</td>\n",
       "      <td>0.000000</td>\n",
       "      <td>2219</td>\n",
       "      <td>0.990625</td>\n",
       "      <td>2</td>\n",
       "      <td>int64</td>\n",
       "    </tr>\n",
       "    <tr>\n",
       "      <th>25</th>\n",
       "      <td>Z_CostContact</td>\n",
       "      <td>0</td>\n",
       "      <td>0.000000</td>\n",
       "      <td>0</td>\n",
       "      <td>0.000000</td>\n",
       "      <td>1</td>\n",
       "      <td>int64</td>\n",
       "    </tr>\n",
       "    <tr>\n",
       "      <th>26</th>\n",
       "      <td>Z_Revenue</td>\n",
       "      <td>0</td>\n",
       "      <td>0.000000</td>\n",
       "      <td>0</td>\n",
       "      <td>0.000000</td>\n",
       "      <td>1</td>\n",
       "      <td>int64</td>\n",
       "    </tr>\n",
       "    <tr>\n",
       "      <th>27</th>\n",
       "      <td>Response</td>\n",
       "      <td>0</td>\n",
       "      <td>0.000000</td>\n",
       "      <td>1906</td>\n",
       "      <td>0.850893</td>\n",
       "      <td>2</td>\n",
       "      <td>int64</td>\n",
       "    </tr>\n",
       "  </tbody>\n",
       "</table>\n",
       "</div>"
      ],
      "text/plain": [
       "               variable  q_nan     p_nan  q_zeros   p_zeros  unique     type\n",
       "0            Year_Birth      0  0.000000        0  0.000000      59    int64\n",
       "1             Education      0  0.000000        0  0.000000       5   object\n",
       "2        Marital_Status      0  0.000000        0  0.000000       8   object\n",
       "3                Income     24  0.010714        0  0.000000    1974  float64\n",
       "4               Kidhome      0  0.000000     1293  0.577232       3    int64\n",
       "5              Teenhome      0  0.000000     1158  0.516964       3    int64\n",
       "6           Dt_Customer      0  0.000000        0  0.000000     663   object\n",
       "7               Recency      0  0.000000       28  0.012500     100    int64\n",
       "8              MntWines      0  0.000000       13  0.005804     776    int64\n",
       "9             MntFruits      0  0.000000      400  0.178571     158    int64\n",
       "10      MntMeatProducts      0  0.000000        1  0.000446     558    int64\n",
       "11      MntFishProducts      0  0.000000      384  0.171429     182    int64\n",
       "12     MntSweetProducts      0  0.000000      419  0.187054     177    int64\n",
       "13         MntGoldProds      0  0.000000       61  0.027232     213    int64\n",
       "14    NumDealsPurchases      0  0.000000       46  0.020536      15    int64\n",
       "15      NumWebPurchases      0  0.000000       49  0.021875      15    int64\n",
       "16  NumCatalogPurchases      0  0.000000      586  0.261607      14    int64\n",
       "17    NumStorePurchases      0  0.000000       15  0.006696      14    int64\n",
       "18    NumWebVisitsMonth      0  0.000000       11  0.004911      16    int64\n",
       "19         AcceptedCmp3      0  0.000000     2077  0.927232       2    int64\n",
       "20         AcceptedCmp4      0  0.000000     2073  0.925446       2    int64\n",
       "21         AcceptedCmp5      0  0.000000     2077  0.927232       2    int64\n",
       "22         AcceptedCmp1      0  0.000000     2096  0.935714       2    int64\n",
       "23         AcceptedCmp2      0  0.000000     2210  0.986607       2    int64\n",
       "24             Complain      0  0.000000     2219  0.990625       2    int64\n",
       "25        Z_CostContact      0  0.000000        0  0.000000       1    int64\n",
       "26            Z_Revenue      0  0.000000        0  0.000000       1    int64\n",
       "27             Response      0  0.000000     1906  0.850893       2    int64"
      ]
     },
     "execution_count": 3,
     "metadata": {},
     "output_type": "execute_result"
    }
   ],
   "source": [
    "status(data)"
   ]
  },
  {
   "cell_type": "code",
   "execution_count": 4,
   "id": "b8d36403",
   "metadata": {},
   "outputs": [
    {
     "data": {
      "text/html": [
       "<div>\n",
       "<style scoped>\n",
       "    .dataframe tbody tr th:only-of-type {\n",
       "        vertical-align: middle;\n",
       "    }\n",
       "\n",
       "    .dataframe tbody tr th {\n",
       "        vertical-align: top;\n",
       "    }\n",
       "\n",
       "    .dataframe thead th {\n",
       "        text-align: right;\n",
       "    }\n",
       "</style>\n",
       "<table border=\"1\" class=\"dataframe\">\n",
       "  <thead>\n",
       "    <tr style=\"text-align: right;\">\n",
       "      <th></th>\n",
       "      <th>variable</th>\n",
       "      <th>q_nan</th>\n",
       "      <th>p_nan</th>\n",
       "      <th>q_zeros</th>\n",
       "      <th>p_zeros</th>\n",
       "      <th>unique</th>\n",
       "      <th>type</th>\n",
       "    </tr>\n",
       "  </thead>\n",
       "  <tbody>\n",
       "    <tr>\n",
       "      <th>3</th>\n",
       "      <td>Income</td>\n",
       "      <td>24</td>\n",
       "      <td>0.010714</td>\n",
       "      <td>0</td>\n",
       "      <td>0.0</td>\n",
       "      <td>1974</td>\n",
       "      <td>float64</td>\n",
       "    </tr>\n",
       "  </tbody>\n",
       "</table>\n",
       "</div>"
      ],
      "text/plain": [
       "  variable  q_nan     p_nan  q_zeros  p_zeros  unique     type\n",
       "3   Income     24  0.010714        0      0.0    1974  float64"
      ]
     },
     "execution_count": 4,
     "metadata": {},
     "output_type": "execute_result"
    }
   ],
   "source": [
    "status(data)[status(data)[\"unique\"] > (data.shape[0]/2)]"
   ]
  },
  {
   "cell_type": "markdown",
   "id": "da7a377b",
   "metadata": {},
   "source": [
    "#### ELIMINAMOS COLUMNAS FECHA Y CON VALORES ÚNICOS"
   ]
  },
  {
   "cell_type": "code",
   "execution_count": null,
   "id": "f814ffc8",
   "metadata": {},
   "outputs": [
    {
     "ename": "NameError",
     "evalue": "name 'data_imp' is not defined",
     "output_type": "error",
     "traceback": [
      "\u001b[31m---------------------------------------------------------------------------\u001b[39m",
      "\u001b[31mNameError\u001b[39m                                 Traceback (most recent call last)",
      "\u001b[36mCell\u001b[39m\u001b[36m \u001b[39m\u001b[32mIn[5]\u001b[39m\u001b[32m, line 2\u001b[39m\n\u001b[32m      1\u001b[39m columnas_a_eliminar = [\u001b[33m'\u001b[39m\u001b[33mYear_Birth\u001b[39m\u001b[33m'\u001b[39m, \u001b[33m'\u001b[39m\u001b[33mDt_Customer\u001b[39m\u001b[33m'\u001b[39m, \u001b[33m'\u001b[39m\u001b[33mZ_CostContact\u001b[39m\u001b[33m'\u001b[39m, \u001b[33m'\u001b[39m\u001b[33mZ_Revenue\u001b[39m\u001b[33m'\u001b[39m]\n\u001b[32m----> \u001b[39m\u001b[32m2\u001b[39m data_imp2 = \u001b[43mdata_imp\u001b[49m.drop(columns=columnas_a_eliminar)\n",
      "\u001b[31mNameError\u001b[39m: name 'data_imp' is not defined"
     ]
    }
   ],
   "source": [
    "columnas_a_eliminar = ['Year_Birth', 'Dt_Customer', 'Z_CostContact', 'Z_Revenue']\n",
    "data = data.drop(columns=columnas_a_eliminar)"
   ]
  },
  {
   "cell_type": "code",
   "execution_count": null,
   "id": "4c6f9dc4",
   "metadata": {},
   "outputs": [],
   "source": [
    "status(data)"
   ]
  },
  {
   "cell_type": "markdown",
   "id": "42ba75f1",
   "metadata": {},
   "source": [
    "#### TRANSFORMAMOS COLUMNAS OBJECT A NUMÉRICAS, YA QUE SON POCOS VALORES"
   ]
  },
  {
   "cell_type": "code",
   "execution_count": null,
   "id": "2fc14067",
   "metadata": {},
   "outputs": [],
   "source": [
    "data['Marital_Status'].unique()"
   ]
  },
  {
   "cell_type": "code",
   "execution_count": null,
   "id": "a3ae1776",
   "metadata": {},
   "outputs": [],
   "source": [
    "class_map = {'Single':0, 'Married':1, 'Together':1, 'Divorced':2, 'Widow':3, 'Alone':0, 'Absurd':0, 'YOLO':0}\n",
    "data['Marital_Status'] = data['Marital_Status'].map(class_map)"
   ]
  },
  {
   "cell_type": "code",
   "execution_count": null,
   "id": "12184ba6",
   "metadata": {},
   "outputs": [],
   "source": [
    "data['Education'].unique()"
   ]
  },
  {
   "cell_type": "code",
   "execution_count": null,
   "id": "c769b2fb",
   "metadata": {},
   "outputs": [],
   "source": [
    "# Si tuvieramos el orden de la etapa más básica a la más especializada, podríamos ordenarlas\n",
    "class_map = {'Graduation':0, 'PhD':1, 'Master':2, 'Basic':3, '2n Cycle':4}\n",
    "data['Education'] = data['Education'].map(class_map)"
   ]
  },
  {
   "cell_type": "code",
   "execution_count": null,
   "id": "62148c48",
   "metadata": {},
   "outputs": [],
   "source": [
    "status(data)"
   ]
  },
  {
   "cell_type": "markdown",
   "id": "dc5dd220",
   "metadata": {},
   "source": [
    "#### Split en Train y Test"
   ]
  },
  {
   "cell_type": "code",
   "execution_count": null,
   "id": "0d014667",
   "metadata": {},
   "outputs": [],
   "source": [
    "data_x = data.drop('Response', axis=1)\n",
    "data_y = data['Response']"
   ]
  },
  {
   "cell_type": "code",
   "execution_count": null,
   "id": "334101df",
   "metadata": {},
   "outputs": [],
   "source": [
    "data_x = data_x.values\n",
    "data_y = data_y.values"
   ]
  },
  {
   "cell_type": "code",
   "execution_count": null,
   "id": "f1cece09",
   "metadata": {},
   "outputs": [],
   "source": [
    "\n",
    "x_train, x_test, y_train, y_test = train_test_split(data_x, data_y, test_size=0.3)"
   ]
  },
  {
   "cell_type": "markdown",
   "id": "55429034",
   "metadata": {},
   "source": [
    "#### Regresión Lineal"
   ]
  },
  {
   "cell_type": "code",
   "execution_count": null,
   "id": "8bb00000",
   "metadata": {},
   "outputs": [],
   "source": [
    "x_data_reg = data.drop('Income', axis=1)\n",
    "y_data_reg = data['Income']\n",
    "x_data_reg = x_data_reg.values\n",
    "y_data_reg = y_data_reg.values"
   ]
  },
  {
   "cell_type": "code",
   "execution_count": null,
   "id": "c24a338d",
   "metadata": {},
   "outputs": [],
   "source": [
    "x_train, x_test, y_train, y_test = train_test_split(x_data_reg, y_data_reg, test_size=0.3)"
   ]
  },
  {
   "cell_type": "code",
   "execution_count": null,
   "id": "e0f5614d",
   "metadata": {},
   "outputs": [],
   "source": [
    "# a.Creamos modelo\n",
    "model = LinearRegression()"
   ]
  },
  {
   "cell_type": "code",
   "execution_count": null,
   "id": "40bf29c6",
   "metadata": {},
   "outputs": [],
   "source": [
    "# b. fiteamos\n",
    "model.fit(x_train, y_train)"
   ]
  },
  {
   "cell_type": "code",
   "execution_count": null,
   "id": "14bde198",
   "metadata": {},
   "outputs": [],
   "source": [
    "# c. obtenemos predicciónes para tr y ts\n",
    "pred_tr = model.predict(x_train)\n",
    "pred_ts = model.predict(x_test)\n",
    "pred_tr[0:6]"
   ]
  },
  {
   "cell_type": "markdown",
   "id": "e4570502",
   "metadata": {},
   "source": [
    "#### Guardando el modelo en lr.pkl"
   ]
  },
  {
   "cell_type": "code",
   "execution_count": null,
   "id": "a123914c",
   "metadata": {},
   "outputs": [],
   "source": [
    "\n",
    "with open('lr.pkl', 'wb') as handle:\n",
    "    pickle.dump(model, handle, protocol=pickle.HIGHEST_PROTOCOL)\n"
   ]
  },
  {
   "cell_type": "markdown",
   "id": "4b3344bb",
   "metadata": {},
   "source": [
    "#### RandomForest"
   ]
  },
  {
   "cell_type": "code",
   "execution_count": null,
   "id": "6355eb32",
   "metadata": {},
   "outputs": [],
   "source": [
    "model_rf = RandomForestRegressor()"
   ]
  },
  {
   "cell_type": "code",
   "execution_count": null,
   "id": "5d4ac03b",
   "metadata": {},
   "outputs": [],
   "source": [
    "params = {\n",
    "    'n_estimators' : [10, 100, 300, 500,1000],\n",
    "    'max_features': [50,100],\n",
    "    #'bootstrap': [False, True],\n",
    "    #'max_depth': [50, 500],\n",
    "    #'min_samples_leaf': [3, 50],\n",
    "    #'min_samples_split': [10, 50],\n",
    "}\n",
    "\n",
    "grid_rf = GridSearchCV(estimator = model_rf,\n",
    "                        param_grid = params,\n",
    "                        scoring = 'neg_mean_absolute_error',\n",
    "                        cv = 5, \n",
    "                        verbose = 1\n",
    "                        )"
   ]
  },
  {
   "cell_type": "code",
   "execution_count": null,
   "id": "a6025a27",
   "metadata": {},
   "outputs": [],
   "source": [
    "grid_rf.fit(x_train, y_train)"
   ]
  },
  {
   "cell_type": "code",
   "execution_count": null,
   "id": "a345efe8",
   "metadata": {},
   "outputs": [],
   "source": [
    "grid_rf.best_estimator_"
   ]
  },
  {
   "cell_type": "code",
   "execution_count": null,
   "id": "9cee108e",
   "metadata": {},
   "outputs": [],
   "source": [
    "grid_rf.predict(x_train)\n",
    "grid_rf.predict(x_test)"
   ]
  },
  {
   "cell_type": "code",
   "execution_count": null,
   "id": "ebf46c1b",
   "metadata": {},
   "outputs": [],
   "source": [
    "grid_rf.best_params_"
   ]
  },
  {
   "cell_type": "markdown",
   "id": "eff7b6ea",
   "metadata": {},
   "source": [
    "#### Guardando el modelo en rfc.pkl"
   ]
  },
  {
   "cell_type": "code",
   "execution_count": null,
   "id": "ad307f2b",
   "metadata": {},
   "outputs": [],
   "source": [
    "with open('rfc.pickle', 'wb') as handle:\n",
    "    pickle.dump(grid_rf.best_params_, handle, protocol=pickle.HIGHEST_PROTOCOL)"
   ]
  },
  {
   "cell_type": "code",
   "execution_count": null,
   "id": "36331ff4",
   "metadata": {},
   "outputs": [],
   "source": [
    "with open('rfc.pickle', 'rb') as handle:\n",
    "    rfc_tr = pickle.load(handle)"
   ]
  },
  {
   "cell_type": "markdown",
   "id": "349b048b",
   "metadata": {},
   "source": [
    "#### RandomForest Columna Income"
   ]
  },
  {
   "cell_type": "code",
   "execution_count": null,
   "id": "7d68d7a8",
   "metadata": {},
   "outputs": [],
   "source": [
    "X = data.drop('Income', axis=1)\n",
    "y = data['Income']"
   ]
  },
  {
   "cell_type": "code",
   "execution_count": null,
   "id": "10775aac",
   "metadata": {},
   "outputs": [],
   "source": [
    "X_train, X_test, y_train, y_test = train_test_split(X, y, test_size=0.2, random_state=42)"
   ]
  },
  {
   "cell_type": "code",
   "execution_count": null,
   "id": "e78d04b7",
   "metadata": {},
   "outputs": [],
   "source": [
    "\n",
    "\n",
    "model_rf = RandomForestRegressor()"
   ]
  },
  {
   "cell_type": "code",
   "execution_count": null,
   "id": "2dd5232a",
   "metadata": {},
   "outputs": [],
   "source": [
    "params = {\n",
    "    'n_estimators' : [10, 100, 300, 500,1000],\n",
    "    'max_features': [50,100],\n",
    "    #'bootstrap': [False, True],\n",
    "    #'max_depth': [50, 500],\n",
    "    #'min_samples_leaf': [3, 50],\n",
    "    #'min_samples_split': [10, 50],\n",
    "}\n",
    "\n",
    "grid_rf = GridSearchCV(estimator = model_rf,\n",
    "                        param_grid = params,\n",
    "                        scoring = 'neg_mean_absolute_error',\n",
    "                        cv = 5, \n",
    "                        verbose = 1\n",
    "                        )"
   ]
  },
  {
   "cell_type": "code",
   "execution_count": null,
   "id": "d765d9d3",
   "metadata": {},
   "outputs": [],
   "source": [
    "grid_rf.fit(X_train, y_train)"
   ]
  },
  {
   "cell_type": "code",
   "execution_count": null,
   "id": "6e6020c0",
   "metadata": {},
   "outputs": [],
   "source": [
    "grid_rf.best_estimator_"
   ]
  },
  {
   "cell_type": "code",
   "execution_count": null,
   "id": "e453b560",
   "metadata": {},
   "outputs": [],
   "source": [
    "grid_rf.predict(x_train)\n",
    "grid_rf.predict(x_test)"
   ]
  },
  {
   "cell_type": "code",
   "execution_count": null,
   "id": "2f874075",
   "metadata": {},
   "outputs": [],
   "source": [
    "grid_rf.best_params_"
   ]
  },
  {
   "cell_type": "markdown",
   "id": "98a6736b",
   "metadata": {},
   "source": [
    "#### Combinatoria de parámetros"
   ]
  },
  {
   "cell_type": "code",
   "execution_count": null,
   "id": "60f5b6ea",
   "metadata": {},
   "outputs": [],
   "source": [
    "pd.concat([pd.DataFrame(grid_rf.cv_results_[\"params\"]),\n",
    "           pd.DataFrame(grid_rf.cv_results_[\"mean_test_score\"], \n",
    "                        columns=[\"neg_mean_absolute_error\"])],axis=1).sort_values('neg_mean_absolute_error', ascending=False)"
   ]
  },
  {
   "cell_type": "code",
   "execution_count": null,
   "id": "934f5a9b",
   "metadata": {},
   "outputs": [],
   "source": [
    "grid_rf.score(X_train, y_train)"
   ]
  },
  {
   "cell_type": "code",
   "execution_count": null,
   "id": "9a898852",
   "metadata": {},
   "outputs": [],
   "source": [
    "grid_rf.score(X_test, y_test)"
   ]
  },
  {
   "cell_type": "code",
   "execution_count": null,
   "id": "30eac047",
   "metadata": {},
   "outputs": [],
   "source": [
    "# Guardar el modelo\n",
    "# rfr.pkl\n",
    "with open('rfr.pkl', 'wb') as handle:\n",
    "    pickle.dump(grid_rf.best_estimator_, handle, protocol=pickle.HIGHEST_PROTOCOL)\n"
   ]
  }
 ],
 "metadata": {
  "kernelspec": {
   "display_name": ".venv",
   "language": "python",
   "name": "python3"
  },
  "language_info": {
   "codemirror_mode": {
    "name": "ipython",
    "version": 3
   },
   "file_extension": ".py",
   "mimetype": "text/x-python",
   "name": "python",
   "nbconvert_exporter": "python",
   "pygments_lexer": "ipython3",
   "version": "3.11.9"
  }
 },
 "nbformat": 4,
 "nbformat_minor": 5
}
