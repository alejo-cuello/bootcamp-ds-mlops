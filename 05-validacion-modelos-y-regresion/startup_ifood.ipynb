{
 "cells": [
  {
   "cell_type": "markdown",
   "id": "0ecb9c7e",
   "metadata": {},
   "source": [
    "# Actividad N° 05: iFood"
   ]
  },
  {
   "cell_type": "markdown",
   "id": "b8ac3356",
   "metadata": {},
   "source": [
    "## Integrantes"
   ]
  },
  {
   "cell_type": "markdown",
   "id": "016828a9",
   "metadata": {},
   "source": [
    "**Grupo N° 03**\n",
    "\n",
    "- Adriana Villalobos\n",
    "- Gustavo Ledesma\n",
    "- Alejo Cuello"
   ]
  },
  {
   "cell_type": "markdown",
   "id": "b2ffdae5",
   "metadata": {},
   "source": [
    "## Descripción de la actividad"
   ]
  },
  {
   "cell_type": "markdown",
   "id": "f46d0355",
   "metadata": {},
   "source": [
    "Trabajamos sobre el conjunto de datos *marketing-campaign.csv* de iFood. El objetivo de la actividad es validar los modelos de clasificación y regresión utilizados para predecir distintas variables."
   ]
  },
  {
   "cell_type": "markdown",
   "id": "06cab53d",
   "metadata": {},
   "source": [
    "# Consigna"
   ]
  },
  {
   "cell_type": "markdown",
   "id": "21eb25f5",
   "metadata": {},
   "source": [
    "- Creen un modelo de clasificación utilizando Random Forest para la columna `Response`.\n",
    "- Guarden el modelo de clasificación Random forest como `rfc.pkl`.\n",
    "- Creen un modelo con regresión lineal y con Random Forest + GridsearchCV para predecir la columna `Income`.\n",
    "- Guardar ambos modelos de regresion en pkl `lr.pkl` y `rfr.pkl`\n",
    "- Cargar proyecto en Github / Gitlab, usen git y git-lfs para los `.csv` y `.pkl`."
   ]
  },
  {
   "cell_type": "markdown",
   "id": "d50c8ce4",
   "metadata": {},
   "source": [
    "## Consideraciones"
   ]
  },
  {
   "cell_type": "markdown",
   "id": "c88cf2e2",
   "metadata": {},
   "source": [
    "- Repliquen este notebook para la resolución del ejercicio.\n",
    "- Consideren las etapas: 1) Cargamos los datos, 2) Preparación de la data, 3) Clasificación, 4) Regresión y 5) Guardar un modelo.\n",
    "\n",
    "**Podemos decidir:**\n",
    "- Cómo preparar y acondicionar el dataset.\n",
    "- Pueden agregar y eliminar columnas del dataset.\n",
    "- Decidir parámetros para ajustar en los modelos de clasificación y regresión."
   ]
  },
  {
   "cell_type": "markdown",
   "id": "b87ed111",
   "metadata": {},
   "source": [
    "# Código"
   ]
  },
  {
   "cell_type": "markdown",
   "id": "40eb62bb",
   "metadata": {},
   "source": [
    "#### CARGA DE DATOS"
   ]
  },
  {
   "cell_type": "code",
   "execution_count": null,
   "id": "5e093b70",
   "metadata": {},
   "outputs": [],
   "source": [
    "import pandas as pd\n",
    "import numpy as np\n",
    "import pickle\n",
    "\n",
    "from funpymodeling.exploratory import status\n",
    "from sklearn.model_selection import train_test_split, GridSearchCV\n",
    "from sklearn.linear_model import LinearRegression\n",
    "from sklearn.ensemble import RandomForestRegressor "
   ]
  },
  {
   "cell_type": "code",
   "execution_count": null,
   "id": "597084a8",
   "metadata": {},
   "outputs": [],
   "source": [
    "data = pd.read_csv(\"marketing_campaign.csv\", sep=';', index_col=0)\n",
    "data.head(5)"
   ]
  },
  {
   "cell_type": "code",
   "execution_count": null,
   "id": "9c25bb09",
   "metadata": {},
   "outputs": [],
   "source": [
    "status(data)"
   ]
  },
  {
   "cell_type": "markdown",
   "id": "0dfda998",
   "metadata": {},
   "source": [
    "#### PREPARACIÓN DE LA DATA"
   ]
  },
  {
   "cell_type": "markdown",
   "id": "0bc27fa6",
   "metadata": {},
   "source": [
    "##### --- Uso unas funciones para reemplazar las numéricas sin comprometer (tanto) el valor promedio y la desviación estándar"
   ]
  },
  {
   "cell_type": "code",
   "execution_count": null,
   "id": "9e96e75a",
   "metadata": {},
   "outputs": [],
   "source": [
    "def minmax(x, y):\n",
    "    #Calcula un rango mínimo y máximo.\n",
    "    resul1 = x - y\n",
    "    resul2 = x + y\n",
    "    resultados = {'min': resul1, 'max': resul2}\n",
    "    return resultados"
   ]
  },
  {
   "cell_type": "code",
   "execution_count": null,
   "id": "744e0352",
   "metadata": {},
   "outputs": [],
   "source": [
    "def imp_numericas(f):\n",
    "    #Imputa valores faltantes (NaN) de forma vectorizada.\n",
    "    #Se espera que la entrada 'f' sea un objeto tipo Series de pandas.\n",
    "    if not isinstance(f, pd.Series):\n",
    "        try:\n",
    "            f = pd.Series(f, dtype=float)\n",
    "        except ValueError:\n",
    "            return f\n",
    "\n",
    "    nan_mask = f.isna()\n",
    "    \n",
    "    if not np.any(nan_mask):\n",
    "        return f\n",
    "        \n",
    "    mean_val = f.mean(skipna=True)\n",
    "    std_val = f.std(skipna=True)\n",
    "    \n",
    "    mn_sd = minmax(x=round(mean_val), y=round(std_val))\n",
    "    \n",
    "    num_nan = np.sum(nan_mask)\n",
    "    aleatorios = np.random.randint(mn_sd['min'], mn_sd['max'] + 1, size=num_nan)\n",
    "\n",
    "    f_imputado = f.copy()\n",
    "    \n",
    "    f_imputado[nan_mask] = aleatorios\n",
    "\n",
    "    f_imputado[nan_mask & (f_imputado < 1)] = 1\n",
    "    f_imputado[nan_mask & (f_imputado > mn_sd['max'])] = mn_sd['max']\n",
    "    \n",
    "    return f_imputado"
   ]
  },
  {
   "cell_type": "code",
   "execution_count": null,
   "id": "211f6629",
   "metadata": {},
   "outputs": [],
   "source": [
    "def imp_data(data):\n",
    "    \"\"\"\n",
    "    Args:\n",
    "        df (pd.DataFrame): El dataframe a procesar.\n",
    "\n",
    "    Returns:\n",
    "        pd.DataFrame: Un nuevo dataframe con las columnas numéricas imputadas.\n",
    "    \"\"\"\n",
    "    df_imputado = data.copy()\n",
    "    \n",
    "    for column in df_imputado.columns:\n",
    "        if pd.api.types.is_numeric_dtype(df_imputado[column]):\n",
    "            #print(f\"Procesando la columna numérica: '{column}'\")\n",
    "            df_imputado[column] = imp_numericas(df_imputado[column])\n",
    "            \n",
    "    return df_imputado"
   ]
  },
  {
   "cell_type": "code",
   "execution_count": null,
   "id": "e38dbd66",
   "metadata": {},
   "outputs": [],
   "source": [
    "data_imp = imp_data(data)"
   ]
  },
  {
   "cell_type": "code",
   "execution_count": null,
   "id": "85789850",
   "metadata": {},
   "outputs": [],
   "source": [
    "# Comprobamos que no hay valores faltantes\n",
    "status(data_imp)"
   ]
  },
  {
   "cell_type": "code",
   "execution_count": null,
   "id": "b1ddf2a6",
   "metadata": {},
   "outputs": [],
   "source": [
    "print(\"### Promedio data\")\n",
    "print(round(data['Income'].mean(), 2))\n",
    "\n",
    "print(\"-\"*40)\n",
    "print(\"### Promedio data imputada\")\n",
    "print(round(data_imp['Income'].mean(), 2))"
   ]
  },
  {
   "cell_type": "code",
   "execution_count": null,
   "id": "c9f5ae4d",
   "metadata": {},
   "outputs": [],
   "source": [
    "print(\"### Desviación estándar data\")\n",
    "print(round(data['Income'].std(), 2))\n",
    "\n",
    "print(\"-\"*40)\n",
    "print(\"### Desviación estándar data imputada\")\n",
    "print(round(data_imp['Income'].std(), 2))"
   ]
  },
  {
   "cell_type": "markdown",
   "id": "da7a377b",
   "metadata": {},
   "source": [
    "#### ELIMINAMOS COLUMNAS FECHA Y CON VALORES ÚNICOS"
   ]
  },
  {
   "cell_type": "code",
   "execution_count": null,
   "id": "f814ffc8",
   "metadata": {},
   "outputs": [],
   "source": [
    "columnas_a_eliminar = ['Year_Birth', 'Dt_Customer', 'Z_CostContact', 'Z_Revenue']\n",
    "data_imp2 = data_imp.drop(columns=columnas_a_eliminar)"
   ]
  },
  {
   "cell_type": "code",
   "execution_count": null,
   "id": "4c6f9dc4",
   "metadata": {},
   "outputs": [],
   "source": [
    "status(data_imp2)"
   ]
  },
  {
   "cell_type": "markdown",
   "id": "42ba75f1",
   "metadata": {},
   "source": [
    "#### TRANSFORMAMOS COLUMNAS OBJECT A NUMÉRICAS, YA QUE SON POCOS VALORES"
   ]
  },
  {
   "cell_type": "code",
   "execution_count": null,
   "id": "2fc14067",
   "metadata": {},
   "outputs": [],
   "source": [
    "data_imp2['Marital_Status'].unique()"
   ]
  },
  {
   "cell_type": "code",
   "execution_count": null,
   "id": "a3ae1776",
   "metadata": {},
   "outputs": [],
   "source": [
    "class_map = {'Single':0, 'Married':1, 'Together':1, 'Divorced':2, 'Widow':3, 'Alone':0, 'Absurd':0, 'YOLO':0}\n",
    "data_imp2['Marital_Status'] = data_imp2['Marital_Status'].map(class_map)"
   ]
  },
  {
   "cell_type": "code",
   "execution_count": null,
   "id": "12184ba6",
   "metadata": {},
   "outputs": [],
   "source": [
    "data_imp2['Education'].unique()"
   ]
  },
  {
   "cell_type": "code",
   "execution_count": null,
   "id": "c769b2fb",
   "metadata": {},
   "outputs": [],
   "source": [
    "class_map = {'Graduation':0, 'PhD':1, 'Master':2, 'Basic':3, '2n Cycle':4}\n",
    "data_imp2['Education'] = data_imp2['Education'].map(class_map)"
   ]
  },
  {
   "cell_type": "code",
   "execution_count": null,
   "id": "62148c48",
   "metadata": {},
   "outputs": [],
   "source": [
    "status(data_imp2)"
   ]
  },
  {
   "cell_type": "markdown",
   "id": "dc5dd220",
   "metadata": {},
   "source": [
    "#### Split en Train y Test"
   ]
  },
  {
   "cell_type": "code",
   "execution_count": null,
   "id": "0d014667",
   "metadata": {},
   "outputs": [],
   "source": [
    "data_x = data_imp2.drop('Response', axis=1)\n",
    "data_y = data_imp2['Response']"
   ]
  },
  {
   "cell_type": "code",
   "execution_count": null,
   "id": "334101df",
   "metadata": {},
   "outputs": [],
   "source": [
    "data_x = data_x.values\n",
    "data_y = data_y.values"
   ]
  },
  {
   "cell_type": "code",
   "execution_count": null,
   "id": "f1cece09",
   "metadata": {},
   "outputs": [],
   "source": [
    "\n",
    "x_train, x_test, y_train, y_test = train_test_split(data_x, data_y, test_size=0.3)"
   ]
  },
  {
   "cell_type": "markdown",
   "id": "c81db0dd",
   "metadata": {},
   "source": [
    "#### ------------------------------------------------------------------"
   ]
  },
  {
   "cell_type": "markdown",
   "id": "55429034",
   "metadata": {},
   "source": [
    "#### Regresión Lineal"
   ]
  },
  {
   "cell_type": "code",
   "execution_count": null,
   "id": "8bb00000",
   "metadata": {},
   "outputs": [],
   "source": [
    "x_data_reg = data_imp2.drop('Income', axis=1)\n",
    "y_data_reg = data_imp2['Income']\n",
    "x_data_reg = x_data_reg.values\n",
    "y_data_reg = y_data_reg.values"
   ]
  },
  {
   "cell_type": "code",
   "execution_count": null,
   "id": "c24a338d",
   "metadata": {},
   "outputs": [],
   "source": [
    "x_train, x_test, y_train, y_test = train_test_split(x_data_reg, y_data_reg, test_size=0.3)"
   ]
  },
  {
   "cell_type": "code",
   "execution_count": null,
   "id": "e0f5614d",
   "metadata": {},
   "outputs": [],
   "source": [
    "# a.Creamos modelo\n",
    "model = LinearRegression()"
   ]
  },
  {
   "cell_type": "code",
   "execution_count": null,
   "id": "40bf29c6",
   "metadata": {},
   "outputs": [],
   "source": [
    "# b. fiteamos\n",
    "model.fit(x_train, y_train)"
   ]
  },
  {
   "cell_type": "code",
   "execution_count": null,
   "id": "14bde198",
   "metadata": {},
   "outputs": [],
   "source": [
    "# c. obtenemos predicciónes para tr y ts\n",
    "pred_tr = model.predict(x_train)\n",
    "pred_ts = model.predict(x_test)\n",
    "pred_tr[0:6]"
   ]
  },
  {
   "cell_type": "markdown",
   "id": "e4570502",
   "metadata": {},
   "source": [
    "#### Guardando el modelo en lr.pkl"
   ]
  },
  {
   "cell_type": "code",
   "execution_count": null,
   "id": "a123914c",
   "metadata": {},
   "outputs": [],
   "source": [
    "\n",
    "with open('lr.pkl', 'wb') as handle:\n",
    "    pickle.dump(model, handle, protocol=pickle.HIGHEST_PROTOCOL)\n"
   ]
  },
  {
   "cell_type": "markdown",
   "id": "1995556b",
   "metadata": {},
   "source": [
    "#### ------------------------------------------------------------------"
   ]
  },
  {
   "cell_type": "markdown",
   "id": "4b3344bb",
   "metadata": {},
   "source": [
    "#### RandomForest"
   ]
  },
  {
   "cell_type": "code",
   "execution_count": null,
   "id": "6355eb32",
   "metadata": {},
   "outputs": [],
   "source": [
    "model_rf = RandomForestRegressor()"
   ]
  },
  {
   "cell_type": "code",
   "execution_count": null,
   "id": "5d4ac03b",
   "metadata": {},
   "outputs": [],
   "source": [
    "params = {\n",
    "    'n_estimators' : [10, 100, 300, 500,1000],\n",
    "    'max_features': [50,100],\n",
    "    #'bootstrap': [False, True],\n",
    "    #'max_depth': [50, 500],\n",
    "    #'min_samples_leaf': [3, 50],\n",
    "    #'min_samples_split': [10, 50],\n",
    "}\n",
    "\n",
    "grid_rf = GridSearchCV(estimator = model_rf,\n",
    "                        param_grid = params,\n",
    "                        scoring = 'neg_mean_absolute_error',\n",
    "                        cv = 5, \n",
    "                        verbose = 1\n",
    "                        )"
   ]
  },
  {
   "cell_type": "code",
   "execution_count": null,
   "id": "a6025a27",
   "metadata": {},
   "outputs": [],
   "source": [
    "grid_rf.fit(x_train, y_train)"
   ]
  },
  {
   "cell_type": "code",
   "execution_count": null,
   "id": "a345efe8",
   "metadata": {},
   "outputs": [],
   "source": [
    "grid_rf.best_estimator_"
   ]
  },
  {
   "cell_type": "code",
   "execution_count": null,
   "id": "9cee108e",
   "metadata": {},
   "outputs": [],
   "source": [
    "grid_rf.predict(x_train)\n",
    "grid_rf.predict(x_test)"
   ]
  },
  {
   "cell_type": "code",
   "execution_count": null,
   "id": "ebf46c1b",
   "metadata": {},
   "outputs": [],
   "source": [
    "grid_rf.best_params_"
   ]
  },
  {
   "cell_type": "markdown",
   "id": "eff7b6ea",
   "metadata": {},
   "source": [
    "#### Guardando el modelo en rfc.pkl"
   ]
  },
  {
   "cell_type": "code",
   "execution_count": null,
   "id": "ad307f2b",
   "metadata": {},
   "outputs": [],
   "source": [
    "with open('rfc.pickle', 'wb') as handle:\n",
    "    pickle.dump(grid_rf.best_params_, handle, protocol=pickle.HIGHEST_PROTOCOL)"
   ]
  },
  {
   "cell_type": "code",
   "execution_count": null,
   "id": "36331ff4",
   "metadata": {},
   "outputs": [],
   "source": [
    "with open('rfc.pickle', 'rb') as handle:\n",
    "    rfc_tr = pickle.load(handle)"
   ]
  },
  {
   "cell_type": "markdown",
   "id": "349b048b",
   "metadata": {},
   "source": [
    "#### RandomForest Columna Income"
   ]
  },
  {
   "cell_type": "code",
   "execution_count": null,
   "id": "7d68d7a8",
   "metadata": {},
   "outputs": [],
   "source": [
    "X = data_imp2.drop('Income', axis=1)\n",
    "y = data_imp2['Income']"
   ]
  },
  {
   "cell_type": "code",
   "execution_count": null,
   "id": "10775aac",
   "metadata": {},
   "outputs": [],
   "source": [
    "X_train, X_test, y_train, y_test = train_test_split(X, y, test_size=0.2, random_state=42)"
   ]
  },
  {
   "cell_type": "code",
   "execution_count": null,
   "id": "e78d04b7",
   "metadata": {},
   "outputs": [],
   "source": [
    "\n",
    "\n",
    "model_rf = RandomForestRegressor()"
   ]
  },
  {
   "cell_type": "code",
   "execution_count": null,
   "id": "2dd5232a",
   "metadata": {},
   "outputs": [],
   "source": [
    "params = {\n",
    "    'n_estimators' : [10, 100, 300, 500,1000],\n",
    "    'max_features': [50,100],\n",
    "    #'bootstrap': [False, True],\n",
    "    #'max_depth': [50, 500],\n",
    "    #'min_samples_leaf': [3, 50],\n",
    "    #'min_samples_split': [10, 50],\n",
    "}\n",
    "\n",
    "grid_rf = GridSearchCV(estimator = model_rf,\n",
    "                        param_grid = params,\n",
    "                        scoring = 'neg_mean_absolute_error',\n",
    "                        cv = 5, \n",
    "                        verbose = 1\n",
    "                        )"
   ]
  },
  {
   "cell_type": "code",
   "execution_count": null,
   "id": "d765d9d3",
   "metadata": {},
   "outputs": [],
   "source": [
    "grid_rf.fit(X_train, y_train)"
   ]
  },
  {
   "cell_type": "code",
   "execution_count": null,
   "id": "6e6020c0",
   "metadata": {},
   "outputs": [],
   "source": [
    "grid_rf.best_estimator_"
   ]
  },
  {
   "cell_type": "code",
   "execution_count": null,
   "id": "e453b560",
   "metadata": {},
   "outputs": [],
   "source": [
    "grid_rf.predict(x_train)\n",
    "grid_rf.predict(x_test)"
   ]
  },
  {
   "cell_type": "code",
   "execution_count": null,
   "id": "2f874075",
   "metadata": {},
   "outputs": [],
   "source": [
    "grid_rf.best_params_"
   ]
  },
  {
   "cell_type": "markdown",
   "id": "98a6736b",
   "metadata": {},
   "source": [
    "#### Combinatoria de parámetros"
   ]
  },
  {
   "cell_type": "code",
   "execution_count": null,
   "id": "60f5b6ea",
   "metadata": {},
   "outputs": [],
   "source": [
    "pd.concat([pd.DataFrame(grid_rf.cv_results_[\"params\"]),\n",
    "           pd.DataFrame(grid_rf.cv_results_[\"mean_test_score\"], \n",
    "                        columns=[\"neg_mean_absolute_error\"])],axis=1).sort_values('neg_mean_absolute_error', ascending=False)"
   ]
  },
  {
   "cell_type": "code",
   "execution_count": null,
   "id": "934f5a9b",
   "metadata": {},
   "outputs": [],
   "source": [
    "grid_rf.score(X_train, y_train)"
   ]
  },
  {
   "cell_type": "code",
   "execution_count": null,
   "id": "9a898852",
   "metadata": {},
   "outputs": [],
   "source": [
    "grid_rf.score(X_test, y_test)"
   ]
  },
  {
   "cell_type": "code",
   "execution_count": null,
   "id": "30eac047",
   "metadata": {},
   "outputs": [],
   "source": [
    "# Guardar el modelo\n",
    "# rfr.pkl\n",
    "with open('rfr.pkl', 'wb') as handle:\n",
    "    pickle.dump(grid_rf.best_estimator_, handle, protocol=pickle.HIGHEST_PROTOCOL)\n"
   ]
  }
 ],
 "metadata": {
  "kernelspec": {
   "display_name": "ent_fun",
   "language": "python",
   "name": "python3"
  },
  "language_info": {
   "codemirror_mode": {
    "name": "ipython",
    "version": 3
   },
   "file_extension": ".py",
   "mimetype": "text/x-python",
   "name": "python",
   "nbconvert_exporter": "python",
   "pygments_lexer": "ipython3",
   "version": "3.12.3"
  }
 },
 "nbformat": 4,
 "nbformat_minor": 5
}
